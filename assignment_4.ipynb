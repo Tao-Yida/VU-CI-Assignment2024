{
 "cells": [
  {
   "cell_type": "markdown",
   "metadata": {
    "id": "QRBDdr0SEqpT"
   },
   "source": [
    "# Assignment 4"
   ]
  },
  {
   "cell_type": "markdown",
   "metadata": {
    "id": "8xd57TRzExEr"
   },
   "source": [
    "**Assignment 4: Neural Networks**\n",
    "\n",
    "**Goal**: ​Get familiar with neural networks by implementing them and applying them to image classification."
   ]
  },
  {
   "cell_type": "markdown",
   "metadata": {
    "id": "yHNgWB1iFDu5"
   },
   "source": [
    "In this assignment we are going to learn about neural networks (NNs). The goal is to implement two neural networks: a fully-connected neural network, a convolutional neural network, and analyze their behavior.\n",
    "\n",
    "The considered task is image classification. We consider a dataset of small natural images (see the additional file) with multiple classes. We aim at formulating a model (a neural network) and learning it using the negative log-likelihood function (i.e., the cross-entropy loss) as the objective function, and the stochastic gradient descent as the optimizer.\n",
    "\n",
    "In this assignment, ​**the code must be implemented in PyTorch**."
   ]
  },
  {
   "cell_type": "markdown",
   "metadata": {
    "id": "Jxgc7c--P0GH"
   },
   "source": [
    "## 1 Understanding the problem\n",
    "\n"
   ]
  },
  {
   "cell_type": "markdown",
   "metadata": {
    "id": "oRteDLEPP3eX"
   },
   "source": [
    "The considered problem is about classifying images to $L$ classes. In the first part of the assignment, you are asked get familiar with PyTorch, a deep learning library, and the basics of neural networks, and implement neural-network-based classifiers. For this purpose, we will start with classifying small images (8px x 8px) of handwritten digits to one of 10 classes. The dataset is very small and all experiments could be achieved within a couple of minutes.\n",
    "\n",
    "In the second part, you are asked to implement the whole pipeline for a given dataset by yourself.\n",
    "\n",
    "Please run the code below and spend a while on analyzing the images.\n",
    "\n",
    "If any code line is unclear to you, please read on that in numpy, scipy, matplotlib and PyTorch docs."
   ]
  },
  {
   "cell_type": "code",
   "execution_count": 32,
   "metadata": {
    "id": "g4wCnPRz-MaE"
   },
   "outputs": [],
   "source": [
    "import os\n",
    "\n",
    "import matplotlib.pyplot as plt\n",
    "import numpy as np\n",
    "import torch\n",
    "import torch.nn as nn\n",
    "import torch.nn.functional as F\n",
    "import torch.optim as optim\n",
    "from sklearn import datasets\n",
    "from sklearn.datasets import load_digits\n",
    "from torch.utils.data import Dataset, DataLoader, Dataset\n",
    "\n",
    "EPS = 1.0e-7"
   ]
  },
  {
   "cell_type": "code",
   "execution_count": 33,
   "metadata": {
    "id": "mRmwbuamRuge"
   },
   "outputs": [],
   "source": [
    "# IF YOU USE COLAB, THIS IS VERY USEFUL! OTHERWISE, PLEASE REMOVE IT.\n",
    "# mount drive: WE NEED IT FOR SAVING IMAGES!\n",
    "# from google.colab import drive\n",
    "\n",
    "# drive.mount(\"/content/gdrive\")"
   ]
  },
  {
   "cell_type": "code",
   "execution_count": 34,
   "metadata": {
    "id": "KEiEJE5sRvjc"
   },
   "outputs": [],
   "source": [
    "# IF YOU USE COLAB, THIS IS VERY USEFUL! OTHERWISE, PLEASE REMOVE IT.\n",
    "# PLEASE CHANGE IT TO YOUR OWN GOOGLE DRIVE!\n",
    "# results_dir = \"/content/gdrive/My_Drive/Colab Notebooks/TEACHING/\""
   ]
  },
  {
   "cell_type": "code",
   "execution_count": 35,
   "metadata": {
    "id": "Xm4e0Utl-30c"
   },
   "outputs": [],
   "source": [
    "# PLEASE DO NOT REMOVE!\n",
    "# This is a class for the dataset of small (8px x 8px) digits.\n",
    "# Please try to understand in details how it works!\n",
    "class Digits(Dataset):\n",
    "    \"\"\"Scikit-Learn Digits dataset.\"\"\"\n",
    "\n",
    "    def __init__(self, mode=\"train\", transforms=None):\n",
    "        digits = load_digits()\n",
    "        if mode == \"train\": \n",
    "            self.data = digits.data[:1000].astype(np.float32)\n",
    "            self.targets = digits.target[:1000]\n",
    "        elif mode == \"val\":\n",
    "            self.data = digits.data[1000:1350].astype(np.float32)\n",
    "            self.targets = digits.target[1000:1350]\n",
    "        else:\n",
    "            self.data = digits.data[1350:].astype(np.float32)\n",
    "            self.targets = digits.target[1350:]\n",
    "\n",
    "        self.transforms = transforms\n",
    "\n",
    "    def __len__(self):\n",
    "        return len(self.data)\n",
    "\n",
    "    def __getitem__(self, idx):\n",
    "        sample_x = self.data[idx]\n",
    "        sample_y = self.targets[idx] # Target is not transformed\n",
    "        if self.transforms:\n",
    "            sample_x = self.transforms(sample_x)\n",
    "        return (sample_x, sample_y)"
   ]
  },
  {
   "cell_type": "code",
   "execution_count": 36,
   "metadata": {
    "id": "bnDz_yGeuOnh"
   },
   "outputs": [
    {
     "data": {
      "image/png": "[encoded data removed]",
      "text/plain": [
       "<Figure size 400x400 with 16 Axes>"
      ]
     },
     "metadata": {},
     "output_type": "display_data"
    }
   ],
   "source": [
    "# PLEASE DO NOT REMOVE\n",
    "# Here, we plot some images (8px x 8px).\n",
    "digits = load_digits()\n",
    "x = digits.data[:16].astype(np.float32)\n",
    "\n",
    "fig_data, axs = plt.subplots(4, 4, figsize=(4, 4))\n",
    "fig_data.tight_layout()\n",
    "\n",
    "for i in range(4):\n",
    "    for j in range(4):\n",
    "        img = np.reshape(x[4 * i + j], (8, 8))\n",
    "        axs[i, j].imshow(img, cmap=\"gray\")\n",
    "        axs[i, j].axis(\"off\")"
   ]
  },
  {
   "cell_type": "markdown",
   "metadata": {
    "id": "wgc_GFOyRBEi"
   },
   "source": [
    "## 2 Neural Networks for Digits (4pt)"
   ]
  },
  {
   "cell_type": "markdown",
   "metadata": {
    "id": "gDVf1vyORGUB"
   },
   "source": [
    "In this assignment, you are asked to implement a neural network (NN) classifier. Please take a look at the class below and fill in the missing parts.\n",
    "\n",
    "NOTE: Please pay attention to the inputs and outputs of each function."
   ]
  },
  {
   "cell_type": "markdown",
   "metadata": {
    "id": "iwuEfxSKpFtD"
   },
   "source": [
    "### 2.1 Neural Network Classifier"
   ]
  },
  {
   "cell_type": "markdown",
   "metadata": {
    "id": "9FThxxdkpKcQ"
   },
   "source": [
    "Below, we have two helper modules (layers) that can be used to reshape and flatten a tensor. They are useful for creating sequentials with convolutional layers."
   ]
  },
  {
   "cell_type": "code",
   "execution_count": 37,
   "metadata": {
    "id": "5AB5Ch63Ak01"
   },
   "outputs": [],
   "source": [
    "# PLEASE DO NOT REMOVE!\n",
    "# Here are two auxiliary functions that can be used for a convolutional NN (CNN).\n",
    "\n",
    "\n",
    "# This module reshapes an input (matrix -> tensor).\n",
    "class Reshape(nn.Module):\n",
    "    def __init__(self, size):\n",
    "        super(Reshape, self).__init__()\n",
    "        self.size = size  # a list\n",
    "\n",
    "    def forward(self, x):\n",
    "        assert x.shape[1] == np.prod(self.size)\n",
    "        return x.view(x.shape[0], *self.size)\n",
    "\n",
    "\n",
    "# This module flattens an input (tensor -> matrix) by blending dimensions\n",
    "# beyond the batch size.\n",
    "class Flatten(nn.Module):\n",
    "    def __init__(self):\n",
    "        super(Flatten, self).__init__()\n",
    "\n",
    "    def forward(self, x):\n",
    "        return x.view(x.shape[0], -1)"
   ]
  },
  {
   "cell_type": "markdown",
   "metadata": {
    "id": "x3i9R3NmpUY3"
   },
   "source": [
    "Below is the main class for a classifier parameterized by a neural network."
   ]
  },
  {
   "cell_type": "code",
   "execution_count": 38,
   "metadata": {
    "id": "Vtv_pAkmOrS3"
   },
   "outputs": [],
   "source": [
    "# =========\n",
    "# GRADING:\n",
    "# 0\n",
    "# 0.5 pt if code works but it is explained badly\n",
    "# 1.0 pt if code works and it is explained well\n",
    "# =========\n",
    "# Implement a neural network (NN) classifier.\n",
    "class ClassifierNeuralNet(nn.Module):\n",
    "    def __init__(self, classnet):\n",
    "        super(ClassifierNeuralNet, self).__init__()\n",
    "        # We provide a sequential module with layers and activations\n",
    "        self.classnet = classnet\n",
    "        # The loss function (the negative log-likelihood)\n",
    "        self.nll = nn.NLLLoss(reduction=\"none\")  # it requires log-softmax as input!!\n",
    "\n",
    "    # This function classifies an image x to a class.\n",
    "    # The output must be a class label (long).\n",
    "    def classify(self, x):\n",
    "        \n",
    "        # Forward pass\n",
    "        output = self.classnet(x)\n",
    "        # Apply argmax to the output\n",
    "        y_pred = torch.argmax(output, dim=1)\n",
    "        \n",
    "        return y_pred\n",
    "\n",
    "    # This function is crucial for a module in PyTorch.\n",
    "    # In our framework, this class outputs a value of the loss function.\n",
    "    def forward(self, x, y, reduction=\"avg\"):\n",
    "        output = self.classnet(x)\n",
    "        output = F.log_softmax(output, dim=1)\n",
    "        loss = self.nll(output, y)\n",
    "        if reduction == \"sum\":\n",
    "            return loss.sum()\n",
    "        else:\n",
    "            return loss.mean()"
   ]
  },
  {
   "cell_type": "markdown",
   "metadata": {
    "id": "bwaou1x-gmx3"
   },
   "source": [
    "**Question 1 (0-0.5pt):** What is the objective function for a classification task? In other words, what is nn.NLLLoss in the code above? Pelase write it in mathematical terms.\n",
    "\n",
    "**Answer:** The objective function, namely, the loss function NLLLoss stands for Negative Log-Likelihood Loss with reduction = `None`, whose mathematical terms are defined by:\n",
    "$ \\ell(x, y) = L = \\{l_1,\\dots,l_N\\}^\\top, l_n = - w_{y_n} x_{n,y_n}, \n",
    "        w_{c} = \\text{weight}[c] \\cdot \\mathbb{1}\\{c \\not= \\text{ignore\\_index}\\},\n",
    "$\n",
    "where `x` is the input, `y` is the target, `w` is the weight, and `N` is the batch size."
   ]
  },
  {
   "cell_type": "markdown",
   "metadata": {
    "id": "kvX88kN-irAD"
   },
   "source": [
    "**Question 2 (0-0.5pt):** In the code above, it is said to use the logarithm of the softmax as the final activation function. Is it correct to use the log-softmax instead of the softmax for making predictions (i.e., picking the most probable label).\n",
    "\n",
    "**Answer:** Applying `log-softmax` will give identical results to `softmax` actication function, since they both give the indices of maximum values. `softmax` transforms the output to probability distribution, and `log-softmax` transforms the output to logarithmic probability distribution. Both functions give same results of picking the most probable labels. Logarithmic probability provides better stability with small values."
   ]
  },
  {
   "cell_type": "markdown",
   "metadata": {
    "id": "HVqRQduw3mgm"
   },
   "source": [
    "### 2.2 Evaluation"
   ]
  },
  {
   "cell_type": "code",
   "execution_count": 39,
   "metadata": {
    "id": "4g9uUFgYP1kT"
   },
   "outputs": [],
   "source": [
    "# PLEASE DO NOT REMOVE\n",
    "def evaluation(test_loader, name=None, model_best=None, epoch=None):\n",
    "    # If available, load the best performing model\n",
    "    if model_best is None:\n",
    "        model_best = torch.load(name + \".model\")\n",
    "\n",
    "    model_best.eval()  # set the model to the evaluation mode\n",
    "    loss_test = 0.0\n",
    "    loss_error = 0.0\n",
    "    N = 0.0\n",
    "    # start evaluation\n",
    "    for indx_batch, (test_batch, test_targets) in enumerate(test_loader):\n",
    "        # loss (nll)\n",
    "        loss_test_batch = model_best.forward(test_batch, test_targets, reduction=\"sum\")\n",
    "        loss_test = loss_test + loss_test_batch.item()\n",
    "        # classification error\n",
    "        y_pred = model_best.classify(test_batch)\n",
    "        e = 1.0 * (y_pred == test_targets)\n",
    "        loss_error = loss_error + (1.0 - e).sum().item()\n",
    "        # the number of examples\n",
    "        N = N + test_batch.shape[0]\n",
    "    # divide by the number of examples\n",
    "    loss_test = loss_test / N\n",
    "    loss_error = loss_error / N\n",
    "\n",
    "    # Print the performance\n",
    "    if epoch is None:\n",
    "        print(f\"-> FINAL PERFORMANCE: nll={loss_test}, ce={loss_error}\")\n",
    "    else:\n",
    "        if epoch % 10 == 0:\n",
    "            print(f\"Epoch: {epoch}, val nll={loss_test}, val ce={loss_error}\")\n",
    "\n",
    "    return loss_test, loss_error\n",
    "\n",
    "\n",
    "# An auxiliary function for plotting the performance curves\n",
    "def plot_curve(\n",
    "    name,\n",
    "    signal,\n",
    "    file_name=\"curve.pdf\",\n",
    "    xlabel=\"epochs\",\n",
    "    ylabel=\"nll\",\n",
    "    color=\"b-\",\n",
    "    test_eval=None,\n",
    "):\n",
    "    # plot the curve\n",
    "    plt.plot(\n",
    "        np.arange(len(signal)), signal, color, linewidth=\"3\", label=ylabel + \" val\"\n",
    "    )\n",
    "    # if available, add the final (test) performance\n",
    "    if test_eval is not None:\n",
    "        plt.hlines(\n",
    "            test_eval,\n",
    "            xmin=0,\n",
    "            xmax=len(signal),\n",
    "            linestyles=\"dashed\",\n",
    "            label=ylabel + \" test\",\n",
    "        )\n",
    "        plt.text(\n",
    "            len(signal),\n",
    "            test_eval,\n",
    "            \"{:.3f}\".format(test_eval),\n",
    "        )\n",
    "    # set x- and ylabels, add legend, save the figure\n",
    "    plt.xlabel(xlabel), plt.ylabel(ylabel)\n",
    "    plt.legend()\n",
    "    plt.savefig(name + file_name, bbox_inches=\"tight\")\n",
    "    plt.show()"
   ]
  },
  {
   "cell_type": "markdown",
   "metadata": {
    "id": "YzRd-TiY3puF"
   },
   "source": [
    "### 2.3 Training procedure"
   ]
  },
  {
   "cell_type": "code",
   "execution_count": 40,
   "metadata": {
    "id": "CMhQWbM1QcBM"
   },
   "outputs": [],
   "source": [
    "# PLEASE DO NOT REMOVE!\n",
    "# The training procedure\n",
    "def training(\n",
    "    name, max_patience, num_epochs, model, optimizer, training_loader, val_loader\n",
    "):\n",
    "    nll_val = []\n",
    "    error_val = []\n",
    "    best_nll = 1000.0\n",
    "    patience = 0\n",
    "\n",
    "    # Main training loop\n",
    "    for e in range(num_epochs):\n",
    "        model.train()  # set the model to the training mode\n",
    "        # load batches\n",
    "        for indx_batch, (batch, targets) in enumerate(training_loader):\n",
    "            # calculate the forward pass (loss function for given images and labels)\n",
    "            loss = model.forward(batch, targets)\n",
    "            # remember we need to zero gradients! Just in case!\n",
    "            optimizer.zero_grad()\n",
    "            # calculate backward pass\n",
    "            loss.backward(retain_graph=True)\n",
    "            # run the optimizer\n",
    "            optimizer.step()\n",
    "\n",
    "        # Validation: Evaluate the model on the validation data\n",
    "        loss_e, error_e = evaluation(val_loader, model_best=model, epoch=e)\n",
    "        nll_val.append(loss_e)  # save for plotting\n",
    "        error_val.append(error_e)  # save for plotting\n",
    "\n",
    "        # Early-stopping: update the best performing model and break training if no\n",
    "        # progress is observed.\n",
    "        if e == 0:\n",
    "            torch.save(model, name + \".model\")\n",
    "            best_nll = loss_e\n",
    "        else:\n",
    "            if loss_e < best_nll:\n",
    "                torch.save(model, name + \".model\")\n",
    "                best_nll = loss_e\n",
    "                patience = 0\n",
    "            else:\n",
    "                patience = patience + 1\n",
    "\n",
    "        if patience > max_patience:\n",
    "            break\n",
    "\n",
    "    # Return nll and classification error.\n",
    "    nll_val = np.asarray(nll_val)\n",
    "    error_val = np.asarray(error_val)\n",
    "\n",
    "    return nll_val, error_val"
   ]
  },
  {
   "cell_type": "markdown",
   "metadata": {
    "id": "gHYGz3G87nuk"
   },
   "source": [
    "### 2.4 Experiments"
   ]
  },
  {
   "cell_type": "markdown",
   "metadata": {
    "id": "op-YbN-JREqw"
   },
   "source": [
    "#### Initialize dataloaders"
   ]
  },
  {
   "cell_type": "code",
   "execution_count": 41,
   "metadata": {
    "id": "R_cRaP3gRET1"
   },
   "outputs": [],
   "source": [
    "# PLEASE DO NOT REMOVE\n",
    "# Initialize training, validation and test sets.\n",
    "train_data = Digits(mode=\"train\")\n",
    "val_data = Digits(mode=\"val\")\n",
    "test_data = Digits(mode=\"test\")\n",
    "\n",
    "# Initialize data loaders.\n",
    "training_loader = DataLoader(train_data, batch_size=64, shuffle=True)\n",
    "val_loader = DataLoader(val_data, batch_size=64, shuffle=False)\n",
    "test_loader = DataLoader(test_data, batch_size=64, shuffle=False)"
   ]
  },
  {
   "cell_type": "code",
   "execution_count": 42,
   "metadata": {
    "id": "2Lqwm5c3oRia"
   },
   "outputs": [
    {
     "name": "stdout",
     "output_type": "stream",
     "text": [
      "How do we get our data from Digits class? \n",
      "\n",
      "Feature example: [ 0.  0.  0. 12. 13.  5.  0.  0.  0.  0.  0. 11. 16.  9.  0.  0.  0.  0.\n",
      "  3. 15. 16.  6.  0.  0.  0.  7. 15. 16. 16.  2.  0.  0.  0.  0.  1. 16.\n",
      " 16.  3.  0.  0.  0.  0.  1. 16. 16.  6.  0.  0.  0.  0.  1. 16. 16.  6.\n",
      "  0.  0.  0.  0.  0. 11. 16. 10.  0.  0.]\n",
      "Feature example shape: (64,)\n",
      "Label example: 1\n"
     ]
    }
   ],
   "source": [
    "print(\"How do we get our data from Digits class? \\n\")\n",
    "print(f\"Feature example: {train_data[1][0]}\")\n",
    "print(f\"Feature example shape: {train_data[1][0].shape}\")\n",
    "print(f\"Label example: {train_data[1][1]}\")"
   ]
  },
  {
   "cell_type": "code",
   "execution_count": 43,
   "metadata": {
    "id": "F5OuaSTOhocZ"
   },
   "outputs": [
    {
     "name": "stdout",
     "output_type": "stream",
     "text": [
      "How do we get our data from Pytorch DataLoader class? \n",
      "\n",
      "Feature batch shape: torch.Size([64, 64])\n",
      "Labels batch shape: torch.Size([64])\n",
      "\n",
      "\n",
      "What happens if we reshape a feature batch? \n",
      "\n",
      "Feature batch shape after reshape: torch.Size([64, 1, 8, 8])\n",
      "\n",
      "\n",
      "What happens if we flatten a reshaped feature batch? \n",
      "\n",
      "Feature batch shape after flatten: torch.Size([64, 64])\n"
     ]
    }
   ],
   "source": [
    "print(\"How do we get our data from Pytorch DataLoader class? \\n\")\n",
    "train_features, train_labels = next(iter(training_loader))\n",
    "print(f\"Feature batch shape: {train_features.size()}\")\n",
    "print(f\"Labels batch shape: {train_labels.size()}\")\n",
    "\n",
    "print(\"\\n\\nWhat happens if we reshape a feature batch? \\n\")\n",
    "reshape = Reshape(size=(1, 8, 8))\n",
    "train_features_reshaped = reshape(train_features)\n",
    "print(f\"Feature batch shape after reshape: {train_features_reshaped.size()}\")\n",
    "\n",
    "print(\"\\n\\nWhat happens if we flatten a reshaped feature batch? \\n\")\n",
    "flatten = Flatten()\n",
    "train_features_flattened = flatten(train_features_reshaped)\n",
    "print(f\"Feature batch shape after flatten: {train_features_flattened.size()}\")"
   ]
  },
  {
   "cell_type": "markdown",
   "metadata": {
    "id": "s3ni_8Pv3iuG"
   },
   "source": [
    "#### Initialize hyperparameters"
   ]
  },
  {
   "cell_type": "code",
   "execution_count": 44,
   "metadata": {
    "id": "dnMs4gcLRLEK"
   },
   "outputs": [],
   "source": [
    "# PLEASE DO NOT REMOVE\n",
    "# Hyperparameters\n",
    "# -> data hyperparams\n",
    "D = 64  # input dimension\n",
    "\n",
    "# -> model hyperparams\n",
    "M = 256  # the number of neurons in scale (s) and translation (t) nets\n",
    "K = 10  # the number of labels\n",
    "num_kernels = 32  # the number of kernels for CNN\n",
    "\n",
    "# -> training hyperparams\n",
    "lr = 1e-3  # learning rate\n",
    "wd = 1e-5  # weight decay\n",
    "num_epochs = 1000  # max. number of epochs\n",
    "max_patience = 20  # an early stopping is used, if training doesn't improve for longer than 20 epochs, it is stopped"
   ]
  },
  {
   "cell_type": "markdown",
   "metadata": {
    "id": "9VDyHP173vLF"
   },
   "source": [
    "#### Running experiments"
   ]
  },
  {
   "cell_type": "markdown",
   "metadata": {
    "id": "f9T9nXcE3xF2"
   },
   "source": [
    "In the code below, you are supposed to implement architectures for MLP and CNN. For properly implementing these architectures, you can get 0.5pt for each of them."
   ]
  },
  {
   "cell_type": "code",
   "execution_count": 45,
   "metadata": {
    "id": "AZH7ahwBRP9B"
   },
   "outputs": [
    {
     "name": "stdout",
     "output_type": "stream",
     "text": [
      "\n",
      "-> START classifier_mlp\n",
      "Epoch: 0, val nll=1.375830808367048, val ce=0.18285714285714286\n"
     ]
    },
    {
     "name": "stdout",
     "output_type": "stream",
     "text": [
      "Epoch: 10, val nll=0.1871129185812814, val ce=0.05714285714285714\n",
      "Epoch: 20, val nll=0.13360636506761822, val ce=0.04285714285714286\n",
      "Epoch: 30, val nll=0.11008203438350132, val ce=0.03142857142857143\n"
     ]
    },
    {
     "ename": "KeyboardInterrupt",
     "evalue": "",
     "output_type": "error",
     "traceback": [
      "\u001b[0;31m---------------------------------------------------------------------------\u001b[0m",
      "\u001b[0;31mKeyboardInterrupt\u001b[0m                         Traceback (most recent call last)",
      "Cell \u001b[0;32mIn[45], line 82\u001b[0m\n\u001b[1;32m     75\u001b[0m optimizer \u001b[38;5;241m=\u001b[39m optim\u001b[38;5;241m.\u001b[39mAdamax(\n\u001b[1;32m     76\u001b[0m     [p \u001b[38;5;28;01mfor\u001b[39;00m p \u001b[38;5;129;01min\u001b[39;00m model\u001b[38;5;241m.\u001b[39mparameters() \u001b[38;5;28;01mif\u001b[39;00m p\u001b[38;5;241m.\u001b[39mrequires_grad \u001b[38;5;241m==\u001b[39m \u001b[38;5;28;01mTrue\u001b[39;00m],\n\u001b[1;32m     77\u001b[0m     lr\u001b[38;5;241m=\u001b[39mlr,\n\u001b[1;32m     78\u001b[0m     weight_decay\u001b[38;5;241m=\u001b[39mwd,\n\u001b[1;32m     79\u001b[0m )\n\u001b[1;32m     81\u001b[0m \u001b[38;5;66;03m# Training procedure\u001b[39;00m\n\u001b[0;32m---> 82\u001b[0m nll_val, error_val \u001b[38;5;241m=\u001b[39m \u001b[43mtraining\u001b[49m\u001b[43m(\u001b[49m\n\u001b[1;32m     83\u001b[0m \u001b[43m    \u001b[49m\u001b[43mname\u001b[49m\u001b[38;5;241;43m=\u001b[39;49m\u001b[43mresult_dir\u001b[49m\u001b[43m \u001b[49m\u001b[38;5;241;43m+\u001b[39;49m\u001b[43m \u001b[49m\u001b[43mname\u001b[49m\u001b[43m,\u001b[49m\n\u001b[1;32m     84\u001b[0m \u001b[43m    \u001b[49m\u001b[43mmax_patience\u001b[49m\u001b[38;5;241;43m=\u001b[39;49m\u001b[43mmax_patience\u001b[49m\u001b[43m,\u001b[49m\n\u001b[1;32m     85\u001b[0m \u001b[43m    \u001b[49m\u001b[43mnum_epochs\u001b[49m\u001b[38;5;241;43m=\u001b[39;49m\u001b[43mnum_epochs\u001b[49m\u001b[43m,\u001b[49m\n\u001b[1;32m     86\u001b[0m \u001b[43m    \u001b[49m\u001b[43mmodel\u001b[49m\u001b[38;5;241;43m=\u001b[39;49m\u001b[43mmodel\u001b[49m\u001b[43m,\u001b[49m\n\u001b[1;32m     87\u001b[0m \u001b[43m    \u001b[49m\u001b[43moptimizer\u001b[49m\u001b[38;5;241;43m=\u001b[39;49m\u001b[43moptimizer\u001b[49m\u001b[43m,\u001b[49m\n\u001b[1;32m     88\u001b[0m \u001b[43m    \u001b[49m\u001b[43mtraining_loader\u001b[49m\u001b[38;5;241;43m=\u001b[39;49m\u001b[43mtraining_loader\u001b[49m\u001b[43m,\u001b[49m\n\u001b[1;32m     89\u001b[0m \u001b[43m    \u001b[49m\u001b[43mval_loader\u001b[49m\u001b[38;5;241;43m=\u001b[39;49m\u001b[43mval_loader\u001b[49m\u001b[43m,\u001b[49m\n\u001b[1;32m     90\u001b[0m \u001b[43m\u001b[49m\u001b[43m)\u001b[49m\n\u001b[1;32m     92\u001b[0m \u001b[38;5;66;03m# The final evaluation (on the test set)\u001b[39;00m\n\u001b[1;32m     93\u001b[0m test_loss, test_error \u001b[38;5;241m=\u001b[39m evaluation(name\u001b[38;5;241m=\u001b[39mresult_dir \u001b[38;5;241m+\u001b[39m name, test_loader\u001b[38;5;241m=\u001b[39mtest_loader)\n",
      "Cell \u001b[0;32mIn[40], line 23\u001b[0m, in \u001b[0;36mtraining\u001b[0;34m(name, max_patience, num_epochs, model, optimizer, training_loader, val_loader)\u001b[0m\n\u001b[1;32m     21\u001b[0m     loss\u001b[38;5;241m.\u001b[39mbackward(retain_graph\u001b[38;5;241m=\u001b[39m\u001b[38;5;28;01mTrue\u001b[39;00m)\n\u001b[1;32m     22\u001b[0m     \u001b[38;5;66;03m# run the optimizer\u001b[39;00m\n\u001b[0;32m---> 23\u001b[0m     \u001b[43moptimizer\u001b[49m\u001b[38;5;241;43m.\u001b[39;49m\u001b[43mstep\u001b[49m\u001b[43m(\u001b[49m\u001b[43m)\u001b[49m\n\u001b[1;32m     25\u001b[0m \u001b[38;5;66;03m# Validation: Evaluate the model on the validation data\u001b[39;00m\n\u001b[1;32m     26\u001b[0m loss_e, error_e \u001b[38;5;241m=\u001b[39m evaluation(val_loader, model_best\u001b[38;5;241m=\u001b[39mmodel, epoch\u001b[38;5;241m=\u001b[39me)\n",
      "File \u001b[0;32m~/miniconda3/envs/CI/lib/python3.9/site-packages/torch/optim/optimizer.py:376\u001b[0m, in \u001b[0;36mOptimizer.profile_hook_step.<locals>.wrapper\u001b[0;34m(*args, **kwargs)\u001b[0m\n\u001b[1;32m    374\u001b[0m \u001b[38;5;129m@functools\u001b[39m\u001b[38;5;241m.\u001b[39mwraps(func)\n\u001b[1;32m    375\u001b[0m \u001b[38;5;28;01mdef\u001b[39;00m \u001b[38;5;21mwrapper\u001b[39m(\u001b[38;5;241m*\u001b[39margs: _P\u001b[38;5;241m.\u001b[39margs, \u001b[38;5;241m*\u001b[39m\u001b[38;5;241m*\u001b[39mkwargs: _P\u001b[38;5;241m.\u001b[39mkwargs) \u001b[38;5;241m-\u001b[39m\u001b[38;5;241m>\u001b[39m R:\n\u001b[0;32m--> 376\u001b[0m     \u001b[38;5;28mself\u001b[39m, \u001b[38;5;241m*\u001b[39m_ \u001b[38;5;241m=\u001b[39m args\n\u001b[1;32m    377\u001b[0m     \u001b[38;5;28mself\u001b[39m \u001b[38;5;241m=\u001b[39m cast(Optimizer, \u001b[38;5;28mself\u001b[39m)\n\u001b[1;32m    378\u001b[0m     profile_name \u001b[38;5;241m=\u001b[39m \u001b[38;5;124mf\u001b[39m\u001b[38;5;124m\"\u001b[39m\u001b[38;5;124mOptimizer.step#\u001b[39m\u001b[38;5;132;01m{\u001b[39;00m\u001b[38;5;28mself\u001b[39m\u001b[38;5;241m.\u001b[39m\u001b[38;5;18m__class__\u001b[39m\u001b[38;5;241m.\u001b[39m\u001b[38;5;18m__name__\u001b[39m\u001b[38;5;132;01m}\u001b[39;00m\u001b[38;5;124m.step\u001b[39m\u001b[38;5;124m\"\u001b[39m\n",
      "\u001b[0;31mKeyboardInterrupt\u001b[0m: "
     ]
    }
   ],
   "source": [
    "# PLEASE DO NOT REMOVE and FILL IN WHEN NECESSARY!\n",
    "# We will run two models: MLP and CNN\n",
    "names = [\"classifier_mlp\", \"classifier_cnn\"]\n",
    "\n",
    "# loop over models\n",
    "for name in names:\n",
    "    print(\"\\n-> START {}\".format(name))\n",
    "    # Create a folder (REMEMBER: You must mount your drive if you use Colab!)\n",
    "    if name == \"classifier_mlp\":\n",
    "        name = name + \"_M_\" + str(M)\n",
    "    elif name == \"classifier_cnn\":\n",
    "        name = name + \"_M_\" + str(M) + \"_kernels_\" + str(num_kernels)\n",
    "\n",
    "    # Create a folder if necessary\n",
    "    result_dir = os.path.join(\"./model/\", \"results\", name + \"/\")\n",
    "\n",
    "    # =========\n",
    "    # MAKE SURE THAT \"result_dir\" IS A PATH TO A LOCAL FOLDER OR A GOOGLE COLAB FOLDER (DEFINED IN CELL 3)\n",
    "    result_dir = \"./model/\"  # (current folder)\n",
    "    # =========\n",
    "    if not (os.path.exists(result_dir)):\n",
    "        os.mkdir(result_dir)\n",
    "\n",
    "    # MLP\n",
    "    if name[0:14] == \"classifier_mlp\":\n",
    "        # =========\n",
    "        # GRADING:\n",
    "        # 0\n",
    "        # 0.5pt if properly implemented\n",
    "        # =========\n",
    "        # ------\n",
    "        # PLEASE FILL IN:\n",
    "        classnet = nn.Sequential(\n",
    "            nn.Linear(D, M),\n",
    "            nn.ReLU(),\n",
    "            nn.Dropout(0.5),  # Dropout layer\n",
    "            nn.Linear(M, M),  # Another linear layer\n",
    "            nn.ReLU(),\n",
    "            nn.Dropout(0.5),\n",
    "            nn.Linear(M, K),\n",
    "            nn.LogSoftmax(dim=1)  # LogSoftmax for the output\n",
    "        )\n",
    "        pass\n",
    "\n",
    "    # CNN\n",
    "    elif name[0:14] == \"classifier_cnn\":\n",
    "        # =========\n",
    "        # GRADING:\n",
    "        # 0\n",
    "        # 0.5pt if properly implemented\n",
    "        # =========\n",
    "        # ------\n",
    "        # PLEASE FILL IN:\n",
    "        classnet = nn.Sequential(\n",
    "            Reshape((1, 8, 8)),\n",
    "            nn.Conv2d(1, 32, kernel_size=3, padding=1),\n",
    "            nn.ReLU(),\n",
    "            nn.BatchNorm2d(32),\n",
    "            nn.Conv2d(32, 64, kernel_size=3, padding=1),\n",
    "            nn.ReLU(),\n",
    "            nn.MaxPool2d(2),\n",
    "            Flatten(),\n",
    "            nn.Linear(64 * 4 * 4, 128),\n",
    "            nn.ReLU(),\n",
    "            nn.Dropout(0.5),\n",
    "            nn.Linear(128, K),\n",
    "            nn.LogSoftmax(dim=1),\n",
    "        )\n",
    "        pass\n",
    "\n",
    "    # Init ClassifierNN\n",
    "    model = ClassifierNeuralNet(classnet)\n",
    "\n",
    "    # Init OPTIMIZER (here we use ADAMAX)\n",
    "    optimizer = optim.Adamax(\n",
    "        [p for p in model.parameters() if p.requires_grad == True],\n",
    "        lr=lr,\n",
    "        weight_decay=wd,\n",
    "    )\n",
    "\n",
    "    # Training procedure\n",
    "    nll_val, error_val = training(\n",
    "        name=result_dir + name,\n",
    "        max_patience=max_patience,\n",
    "        num_epochs=num_epochs,\n",
    "        model=model,\n",
    "        optimizer=optimizer,\n",
    "        training_loader=training_loader,\n",
    "        val_loader=val_loader,\n",
    "    )\n",
    "\n",
    "    # The final evaluation (on the test set)\n",
    "    test_loss, test_error = evaluation(name=result_dir + name, test_loader=test_loader)\n",
    "    # write the results to a file\n",
    "    f = open(result_dir + name + \"_test_loss.txt\", \"w\")\n",
    "    f.write(\"NLL: \" + str(test_loss) + \"\\nCE: \" + str(test_error))\n",
    "    f.close()\n",
    "    # create curves\n",
    "    plot_curve(\n",
    "        result_dir + name,\n",
    "        nll_val,\n",
    "        file_name=\"_nll_val_curve.pdf\",\n",
    "        ylabel=\"nll\",\n",
    "        test_eval=test_loss,\n",
    "    )\n",
    "    plot_curve(\n",
    "        result_dir + name,\n",
    "        error_val,\n",
    "        file_name=\"_ca_val_curve.pdf\",\n",
    "        ylabel=\"ce\",\n",
    "        color=\"r-\",\n",
    "        test_eval=test_error,\n",
    "    )"
   ]
  },
  {
   "cell_type": "markdown",
   "metadata": {
    "id": "oFX-DzH9ftPg"
   },
   "source": [
    "## 2.5 Analysis"
   ]
  },
  {
   "attachments": {
    "image-2.png": {
     "image/png": "[encoded data removed]"
    },
    "image-3.png": {
     "image/png": "[encoded data removed]"
    },
    "image-4.png": {
     "image/png": "[encoded data removed]"
    },
    "image.png": {
     "image/png": "[encoded data removed]"
    }
   },
   "cell_type": "markdown",
   "metadata": {
    "id": "2-TFtGdZfz3a"
   },
   "source": [
    "**Question 3 (0-0.5pt)**: Please compare the convergence of MLP and CNN in terms of the loss function and the classification error.\n",
    "\n",
    "**Answer**: The results of MLP in terms of loss function and classification error are given by:  \n",
    "![image.png](attachment:image.png) ![image-2.png](attachment:image-2.png)\n",
    "The results of CNN in terms of loss function and classification error are given by:  \n",
    "![image-3.png](attachment:image-3.png) ![image-4.png](attachment:image-4.png)\n",
    "We have found that the overall performance of CNN is much stronger than MLP, while MLP is more capable of stabilizing with fewer epochs than CNN. CNN tends to converge to a stable result around 50 epochs, and MLP tends to converge around 80 epochs."
   ]
  },
  {
   "cell_type": "markdown",
   "metadata": {
    "id": "0f2P57ZmlwXz"
   },
   "source": [
    "**Question 4 (0-0.5pt)**: In general, for a properly picked architectures, a CNN should work better than an MLP. Did you notice that? Why (in general) CNNs are better suited to images than MLPs?\n",
    "\n",
    "**Answer**: For the first question, the answer is ```No```. In the very first versions of two models, the MLP performed better than CNN in terms of classification error. With further modification of the models (e.g.: adding dropout and more convolution layers), the CNN outperformed MLP. CNNs are able to handle the spatial hierarchy of image data more efficiently and recognize local features in an image, such as edges, textures, and shapes, by using a convolutional layer that is captured by a small window of locally-connected weights, which makes it possible to maintain the spatial hierarchical nature of the image and reduce the number of model parameters. This property makes CNNs particularly suitable for image data because they require fewer parameters to process image inputs of the same size and are more robust to geometric transformations in the image than the fully connected layers of an MLP."
   ]
  },
  {
   "cell_type": "markdown",
   "metadata": {
    "id": "1QJ_mRdT7Ais"
   },
   "source": [
    "## 3 Application to Street House View Numbers (SVHN) (6pt)"
   ]
  },
  {
   "cell_type": "markdown",
   "metadata": {
    "id": "YHhUUaYL7GEx"
   },
   "source": [
    "Please repeat (some) of the code in the previous section and apply a bigger convolutional neural network (CNN) to the following dataset:\n",
    "\n",
    "http://ufldl.stanford.edu/housenumbers/\n",
    "\n",
    "Please follow the following steps:\n",
    "1. (1pt) Create appropriate Dataset class. Please remember to use the original training data and test data, and also to create a validation set from the traning data (at least 10% of the training examples). **Do not use extra examples!**\n",
    "2. (1pt) Implement an architecture that will give at most 0.1 classification error. For instance, see this paper as a reference: https://arxiv.org/pdf/1204.3968.pdf#:~:text=The%20SVHN%20classification%20dataset%20%5B8,set%20of%20more%20difficult%20samples\n",
    "3. (1pt) Think of an extra component that could improve the performance (e.g., a regularization, specific activation functions).\n",
    "4. (1pt) Provide a good explanation of the applied architecture and a description of all components.\n",
    "5. (2pt) Analyze the results.\n",
    "\n",
    "**Please be very precise, comment your code and provide a comprehensive and clear analysis.**"
   ]
  },
  {
   "cell_type": "code",
   "execution_count": 47,
   "metadata": {},
   "outputs": [],
   "source": [
    "import torch\n",
    "import torch.nn as nn\n",
    "import torch.optim as optim\n",
    "from torch.utils.data import DataLoader, Dataset\n",
    "import os\n",
    "import h5py\n",
    "import PIL.Image as Image\n",
    "from torchvision import transforms\n",
    "\n",
    "batch_size = 8192\n",
    "image_size = (32, 32)\n",
    "\n",
    "# Transform\n",
    "transform = transforms.Compose(\n",
    "    [\n",
    "        transforms.Resize(image_size),  # Resize the image to 32x32\n",
    "        transforms.ToTensor(),\n",
    "        transforms.Normalize((0.5,), (0.5,)),\n",
    "    ]\n",
    ")\n",
    "\n",
    "\n",
    "class SVHNDataset(Dataset):\n",
    "    def __init__(self, root_dir, mode=\"train\", transform=None):\n",
    "        self.root_dir = root_dir\n",
    "        self.mode = mode\n",
    "        self.transform = transform\n",
    "        self.data_files = self._load_data_files()\n",
    "        self.labels = self._load_labels()\n",
    "\n",
    "        if self.mode == \"train\":\n",
    "            self.validation_split = int(0.2 * len(self.data_files))\n",
    "            self.train_files = self.data_files[self.validation_split :]\n",
    "            self.val_files = self.data_files[: self.validation_split]\n",
    "        elif self.mode == \"val\":\n",
    "            self.validation_split = int(0.2 * len(self.data_files))\n",
    "            self.val_files = self.data_files[: self.validation_split]\n",
    "        else:\n",
    "            self.train_files = self.data_files\n",
    "\n",
    "    def _load_data_files(self):\n",
    "        if self.mode in [\"train\", \"val\"]:\n",
    "            data_path = os.path.join(self.root_dir, \"train\")\n",
    "        elif self.mode == \"test\":\n",
    "            data_path = os.path.join(self.root_dir, \"test\")\n",
    "        else:\n",
    "            raise ValueError(\"Mode must be 'train', 'test' or 'val'\")\n",
    "\n",
    "        # 只添加图像文件到data_files列表中\n",
    "        return [\n",
    "            os.path.join(data_path, file)\n",
    "            for file in os.listdir(data_path)\n",
    "            if os.path.splitext(file)[1] in [\".png\", \".jpg\", \".jpeg\"]\n",
    "        ]\n",
    "\n",
    "    def _load_labels(self):\n",
    "        labels = []\n",
    "        if self.mode in [\"train\", \"test\"]:\n",
    "            file_path = os.path.join(self.root_dir, self.mode, \"digitStruct.mat\")\n",
    "        elif self.mode == \"val\":\n",
    "            file_path = os.path.join(self.root_dir, \"train\", \"digitStruct.mat\")\n",
    "        else:\n",
    "            raise ValueError(\"Mode must be 'train', 'test' or 'val'\")\n",
    "        mat = h5py.File(file_path, \"r\")\n",
    "\n",
    "        num_bboxes = len(mat[\"digitStruct\"][\"bbox\"])\n",
    "\n",
    "        for i in range(len(self.data_files)):\n",
    "            if i < num_bboxes:\n",
    "                bbox = self.read_bbox(mat, i)\n",
    "                labels.append(bbox[\"label\"])\n",
    "\n",
    "        return labels\n",
    "\n",
    "    def read_bbox(self, file, index):\n",
    "        bbox = {}\n",
    "        item = file[file[\"digitStruct\"][\"bbox\"][index][0]]\n",
    "        for key in [\"label\", \"left\", \"top\", \"width\", \"height\"]:\n",
    "            attr = item[key]\n",
    "            if len(attr) > 1:\n",
    "                bbox[key] = [file[attr[i][0]][0][0] for i in range(len(attr))]\n",
    "            else:\n",
    "                bbox[key] = [attr[0][0]]\n",
    "        bbox[\"label\"] = [int(l) for l in bbox[\"label\"]]\n",
    "        return bbox\n",
    "\n",
    "    def __len__(self):\n",
    "        if self.mode == \"train\":\n",
    "            return len(self.train_files)\n",
    "        elif self.mode == \"val\":\n",
    "            return len(self.val_files)\n",
    "        else:\n",
    "            return len(self.data_files)\n",
    "\n",
    "    def __getitem__(self, idx):\n",
    "        if self.mode == \"train\":\n",
    "            img_name = self.train_files[idx]\n",
    "        elif self.mode == \"val\":\n",
    "            img_name = self.val_files[idx]\n",
    "        else:\n",
    "            img_name = self.data_files[idx]\n",
    "        image = Image.open(img_name)\n",
    "\n",
    "        # Ensure that all images are of mode 'RGB'\n",
    "        if image.mode != \"RGB\":\n",
    "            image = image.convert(\"RGB\")\n",
    "\n",
    "        label = self.labels[idx]\n",
    "\n",
    "        if self.transform:\n",
    "            image = self.transform(image)\n",
    "\n",
    "        # Ensure that all labels are of length 10\n",
    "        label = torch.tensor(label + [0] * (10 - len(label)), dtype=torch.long)\n",
    "\n",
    "        return image, label"
   ]
  },
  {
   "cell_type": "code",
   "execution_count": 48,
   "metadata": {},
   "outputs": [],
   "source": [
    "# Load the dataset\n",
    "train_dataset = SVHNDataset(\n",
    "    \"../SVHN_data/\",\n",
    "    mode=\"train\",\n",
    "    transform=transform,\n",
    ")\n",
    "\n",
    "val_dataset = SVHNDataset(\n",
    "    \"../SVHN_data/\",\n",
    "    mode=\"val\",\n",
    "    transform=transform,\n",
    ")\n",
    "\n",
    "test_dataset = SVHNDataset(\n",
    "    \"../SVHN_data/\",\n",
    "    mode=\"test\",\n",
    "    transform=transform,\n",
    ")\n",
    "train_dataloader = DataLoader(\n",
    "    dataset=train_dataset, batch_size=batch_size, shuffle=True\n",
    ")\n",
    "eval_dataloader = DataLoader(dataset=val_dataset, batch_size=batch_size, shuffle=False)\n",
    "test_dataloader = DataLoader(dataset=test_dataset, batch_size=batch_size, shuffle=True)"
   ]
  },
  {
   "cell_type": "code",
   "execution_count": 51,
   "metadata": {},
   "outputs": [
    {
     "name": "stdout",
     "output_type": "stream",
     "text": [
      "Epoch [1/100], Train Loss: 0.6815, Val Loss: 0.6809, Val Accuracy: 44.48%\n",
      "Epoch [2/100], Train Loss: 0.6814, Val Loss: 0.6809, Val Accuracy: 44.62%\n",
      "Epoch [3/100], Train Loss: 0.6814, Val Loss: 0.6808, Val Accuracy: 44.79%\n",
      "Epoch [4/100], Train Loss: 0.6813, Val Loss: 0.6807, Val Accuracy: 44.99%\n",
      "Epoch [5/100], Train Loss: 0.6811, Val Loss: 0.6805, Val Accuracy: 45.26%\n",
      "Epoch [6/100], Train Loss: 0.6810, Val Loss: 0.6804, Val Accuracy: 45.54%\n",
      "Epoch [7/100], Train Loss: 0.6809, Val Loss: 0.6803, Val Accuracy: 45.81%\n",
      "Epoch [8/100], Train Loss: 0.6807, Val Loss: 0.6801, Val Accuracy: 46.12%\n",
      "Epoch [9/100], Train Loss: 0.6806, Val Loss: 0.6800, Val Accuracy: 46.43%\n",
      "Epoch [10/100], Train Loss: 0.6805, Val Loss: 0.6798, Val Accuracy: 46.82%\n",
      "Epoch [11/100], Train Loss: 0.6803, Val Loss: 0.6797, Val Accuracy: 47.18%\n",
      "Epoch [12/100], Train Loss: 0.6801, Val Loss: 0.6795, Val Accuracy: 47.52%\n",
      "Epoch [13/100], Train Loss: 0.6801, Val Loss: 0.6794, Val Accuracy: 47.87%\n",
      "Epoch [14/100], Train Loss: 0.6799, Val Loss: 0.6792, Val Accuracy: 48.17%\n",
      "Epoch [15/100], Train Loss: 0.6797, Val Loss: 0.6791, Val Accuracy: 48.54%\n",
      "Epoch [16/100], Train Loss: 0.6795, Val Loss: 0.6790, Val Accuracy: 48.95%\n",
      "Epoch [17/100], Train Loss: 0.6794, Val Loss: 0.6788, Val Accuracy: 49.34%\n",
      "Epoch [18/100], Train Loss: 0.6793, Val Loss: 0.6787, Val Accuracy: 49.71%\n",
      "Epoch [19/100], Train Loss: 0.6792, Val Loss: 0.6785, Val Accuracy: 50.12%\n",
      "Epoch [20/100], Train Loss: 0.6791, Val Loss: 0.6784, Val Accuracy: 50.51%\n",
      "Epoch [21/100], Train Loss: 0.6789, Val Loss: 0.6782, Val Accuracy: 50.86%\n",
      "Epoch [22/100], Train Loss: 0.6787, Val Loss: 0.6781, Val Accuracy: 51.25%\n",
      "Epoch [23/100], Train Loss: 0.6786, Val Loss: 0.6779, Val Accuracy: 51.60%\n",
      "Epoch [24/100], Train Loss: 0.6784, Val Loss: 0.6778, Val Accuracy: 51.94%\n",
      "Epoch [25/100], Train Loss: 0.6782, Val Loss: 0.6776, Val Accuracy: 52.26%\n",
      "Epoch [26/100], Train Loss: 0.6782, Val Loss: 0.6775, Val Accuracy: 52.66%\n",
      "Epoch [27/100], Train Loss: 0.6779, Val Loss: 0.6773, Val Accuracy: 53.00%\n",
      "Epoch [28/100], Train Loss: 0.6778, Val Loss: 0.6772, Val Accuracy: 53.35%\n",
      "Epoch [29/100], Train Loss: 0.6777, Val Loss: 0.6770, Val Accuracy: 53.72%\n",
      "Epoch [30/100], Train Loss: 0.6775, Val Loss: 0.6769, Val Accuracy: 54.06%\n",
      "Epoch [31/100], Train Loss: 0.6774, Val Loss: 0.6767, Val Accuracy: 54.40%\n",
      "Epoch [32/100], Train Loss: 0.6772, Val Loss: 0.6766, Val Accuracy: 54.71%\n",
      "Epoch [33/100], Train Loss: 0.6771, Val Loss: 0.6765, Val Accuracy: 55.02%\n",
      "Epoch [34/100], Train Loss: 0.6770, Val Loss: 0.6763, Val Accuracy: 55.31%\n",
      "Epoch [35/100], Train Loss: 0.6769, Val Loss: 0.6762, Val Accuracy: 55.61%\n",
      "Epoch [36/100], Train Loss: 0.6767, Val Loss: 0.6760, Val Accuracy: 55.89%\n",
      "Epoch [37/100], Train Loss: 0.6766, Val Loss: 0.6759, Val Accuracy: 56.14%\n",
      "Epoch [38/100], Train Loss: 0.6764, Val Loss: 0.6757, Val Accuracy: 56.39%\n",
      "Epoch [39/100], Train Loss: 0.6762, Val Loss: 0.6756, Val Accuracy: 56.66%\n",
      "Epoch [40/100], Train Loss: 0.6762, Val Loss: 0.6754, Val Accuracy: 56.89%\n",
      "Epoch [41/100], Train Loss: 0.6760, Val Loss: 0.6753, Val Accuracy: 57.12%\n",
      "Epoch [42/100], Train Loss: 0.6759, Val Loss: 0.6751, Val Accuracy: 57.36%\n",
      "Epoch [43/100], Train Loss: 0.6757, Val Loss: 0.6750, Val Accuracy: 57.61%\n",
      "Epoch [44/100], Train Loss: 0.6755, Val Loss: 0.6748, Val Accuracy: 57.80%\n",
      "Epoch [45/100], Train Loss: 0.6755, Val Loss: 0.6747, Val Accuracy: 58.03%\n",
      "Epoch [46/100], Train Loss: 0.6752, Val Loss: 0.6745, Val Accuracy: 58.21%\n",
      "Epoch [47/100], Train Loss: 0.6751, Val Loss: 0.6744, Val Accuracy: 58.38%\n",
      "Epoch [48/100], Train Loss: 0.6749, Val Loss: 0.6743, Val Accuracy: 58.56%\n",
      "Epoch [49/100], Train Loss: 0.6747, Val Loss: 0.6741, Val Accuracy: 58.74%\n",
      "Epoch [50/100], Train Loss: 0.6746, Val Loss: 0.6740, Val Accuracy: 58.91%\n",
      "Epoch [51/100], Train Loss: 0.6745, Val Loss: 0.6738, Val Accuracy: 59.06%\n",
      "Epoch [52/100], Train Loss: 0.6744, Val Loss: 0.6737, Val Accuracy: 59.17%\n",
      "Epoch [53/100], Train Loss: 0.6741, Val Loss: 0.6735, Val Accuracy: 59.28%\n",
      "Epoch [54/100], Train Loss: 0.6740, Val Loss: 0.6734, Val Accuracy: 59.38%\n",
      "Epoch [55/100], Train Loss: 0.6739, Val Loss: 0.6732, Val Accuracy: 59.47%\n",
      "Epoch [56/100], Train Loss: 0.6738, Val Loss: 0.6731, Val Accuracy: 59.57%\n",
      "Epoch [57/100], Train Loss: 0.6735, Val Loss: 0.6729, Val Accuracy: 59.65%\n",
      "Epoch [58/100], Train Loss: 0.6735, Val Loss: 0.6728, Val Accuracy: 59.72%\n",
      "Epoch [59/100], Train Loss: 0.6733, Val Loss: 0.6726, Val Accuracy: 59.77%\n",
      "Epoch [60/100], Train Loss: 0.6732, Val Loss: 0.6725, Val Accuracy: 59.81%\n",
      "Epoch [61/100], Train Loss: 0.6730, Val Loss: 0.6723, Val Accuracy: 59.85%\n",
      "Epoch [62/100], Train Loss: 0.6730, Val Loss: 0.6722, Val Accuracy: 59.89%\n",
      "Epoch [63/100], Train Loss: 0.6727, Val Loss: 0.6721, Val Accuracy: 59.92%\n",
      "Epoch [64/100], Train Loss: 0.6726, Val Loss: 0.6719, Val Accuracy: 59.95%\n",
      "Epoch [65/100], Train Loss: 0.6726, Val Loss: 0.6718, Val Accuracy: 59.98%\n",
      "Epoch [66/100], Train Loss: 0.6723, Val Loss: 0.6716, Val Accuracy: 59.99%\n",
      "Epoch [67/100], Train Loss: 0.6722, Val Loss: 0.6715, Val Accuracy: 60.00%\n",
      "Epoch [68/100], Train Loss: 0.6720, Val Loss: 0.6713, Val Accuracy: 60.03%\n",
      "Epoch [69/100], Train Loss: 0.6720, Val Loss: 0.6712, Val Accuracy: 60.05%\n",
      "Epoch [70/100], Train Loss: 0.6717, Val Loss: 0.6710, Val Accuracy: 60.07%\n",
      "Epoch [71/100], Train Loss: 0.6716, Val Loss: 0.6709, Val Accuracy: 60.09%\n",
      "Epoch [72/100], Train Loss: 0.6715, Val Loss: 0.6707, Val Accuracy: 60.11%\n",
      "Epoch [73/100], Train Loss: 0.6713, Val Loss: 0.6706, Val Accuracy: 60.12%\n",
      "Epoch [74/100], Train Loss: 0.6712, Val Loss: 0.6704, Val Accuracy: 60.14%\n",
      "Epoch [75/100], Train Loss: 0.6711, Val Loss: 0.6703, Val Accuracy: 60.14%\n",
      "Epoch [76/100], Train Loss: 0.6708, Val Loss: 0.6701, Val Accuracy: 60.15%\n",
      "Epoch [77/100], Train Loss: 0.6706, Val Loss: 0.6700, Val Accuracy: 60.16%\n",
      "Epoch [78/100], Train Loss: 0.6706, Val Loss: 0.6699, Val Accuracy: 60.17%\n",
      "Epoch [79/100], Train Loss: 0.6704, Val Loss: 0.6697, Val Accuracy: 60.18%\n",
      "Epoch [80/100], Train Loss: 0.6703, Val Loss: 0.6696, Val Accuracy: 60.19%\n",
      "Epoch [81/100], Train Loss: 0.6700, Val Loss: 0.6694, Val Accuracy: 60.20%\n",
      "Epoch [82/100], Train Loss: 0.6700, Val Loss: 0.6693, Val Accuracy: 60.21%\n",
      "Epoch [83/100], Train Loss: 0.6697, Val Loss: 0.6691, Val Accuracy: 60.21%\n",
      "Epoch [84/100], Train Loss: 0.6698, Val Loss: 0.6690, Val Accuracy: 60.22%\n",
      "Epoch [85/100], Train Loss: 0.6694, Val Loss: 0.6688, Val Accuracy: 60.22%\n",
      "Epoch [86/100], Train Loss: 0.6694, Val Loss: 0.6687, Val Accuracy: 60.22%\n",
      "Epoch [87/100], Train Loss: 0.6693, Val Loss: 0.6685, Val Accuracy: 60.23%\n",
      "Epoch [88/100], Train Loss: 0.6691, Val Loss: 0.6684, Val Accuracy: 60.24%\n",
      "Epoch [89/100], Train Loss: 0.6688, Val Loss: 0.6682, Val Accuracy: 60.24%\n",
      "Epoch [90/100], Train Loss: 0.6687, Val Loss: 0.6681, Val Accuracy: 60.25%\n",
      "Epoch [91/100], Train Loss: 0.6686, Val Loss: 0.6679, Val Accuracy: 60.25%\n",
      "Epoch [92/100], Train Loss: 0.6685, Val Loss: 0.6678, Val Accuracy: 60.26%\n",
      "Epoch [93/100], Train Loss: 0.6684, Val Loss: 0.6677, Val Accuracy: 60.26%\n",
      "Epoch [94/100], Train Loss: 0.6682, Val Loss: 0.6675, Val Accuracy: 60.26%\n",
      "Epoch [95/100], Train Loss: 0.6681, Val Loss: 0.6674, Val Accuracy: 60.27%\n",
      "Epoch [96/100], Train Loss: 0.6679, Val Loss: 0.6672, Val Accuracy: 60.27%\n",
      "Epoch [97/100], Train Loss: 0.6679, Val Loss: 0.6671, Val Accuracy: 60.27%\n",
      "Epoch [98/100], Train Loss: 0.6677, Val Loss: 0.6669, Val Accuracy: 60.28%\n",
      "Epoch [99/100], Train Loss: 0.6676, Val Loss: 0.6668, Val Accuracy: 60.28%\n",
      "Epoch [100/100], Train Loss: 0.6674, Val Loss: 0.6666, Val Accuracy: 60.28%\n",
      "Test Loss: 0.6657, Test Accuracy: 61.84%\n"
     ]
    }
   ],
   "source": [
    "\n",
    "learning_rate = 1e-5\n",
    "epochs = 100\n",
    "\n",
    "\n",
    "\n",
    "# CNN\n",
    "class CNN(nn.Module):\n",
    "    def __init__(self):\n",
    "        super(CNN, self).__init__()\n",
    "        self.conv1 = nn.Conv2d(3, 32, kernel_size=3, padding=1)\n",
    "        self.conv2 = nn.Conv2d(32, 64, kernel_size=3, padding=1)\n",
    "        self.conv3 = nn.Conv2d(64, 128, kernel_size=3, padding=1)\n",
    "        self.conv4 = nn.Conv2d(128, 256, kernel_size=3, padding=1)  # 新增一层卷积层\n",
    "        self.pool = nn.MaxPool2d(2, 2)\n",
    "        self.fc1 = nn.Linear(256 * 2 * 2, 512)  # 修改为合适的大小\n",
    "        self.fc2 = nn.Linear(512, 256)\n",
    "        self.fc3 = nn.Linear(256, 10)  # 输出6个标签\n",
    "        self.relu = nn.ReLU()\n",
    "        self.dropout = nn.Dropout(0.5)  # 增加Dropout层以防止过拟合\n",
    "\n",
    "    def forward(self, x):\n",
    "        x = self.pool(self.relu(self.conv1(x)))\n",
    "        x = self.pool(self.relu(self.conv2(x)))\n",
    "        x = self.pool(self.relu(self.conv3(x)))\n",
    "        x = self.pool(self.relu(self.conv4(x)))  # 通过新增的卷积层\n",
    "        x = x.view(-1, 256 * 2 * 2)  # 修改为合适的大小\n",
    "        x = self.relu(self.fc1(x))\n",
    "        x = self.dropout(x)  # 应用Dropout\n",
    "        x = self.relu(self.fc2(x))\n",
    "        x = self.fc3(x)\n",
    "        return x\n",
    "\n",
    "\n",
    "def train(model, train_loader, criterion, optimizer, device):\n",
    "    model.train()\n",
    "    running_loss = 0.0\n",
    "    for images, labels in train_loader:\n",
    "        images, labels = images.to(device), labels.to(device)\n",
    "\n",
    "        optimizer.zero_grad()\n",
    "        outputs = model(images)\n",
    "        labels = labels.float()  # Convert labels to float\n",
    "        loss = criterion(outputs, labels)\n",
    "        loss.backward()\n",
    "        optimizer.step()\n",
    "\n",
    "        running_loss += loss.item()\n",
    "    return running_loss / len(train_loader)\n",
    "\n",
    "\n",
    "def evaluate(model, val_loader, criterion, device):\n",
    "    model.eval()\n",
    "    running_loss = 0.0\n",
    "    correct = 0\n",
    "    total = 0\n",
    "    with torch.no_grad():\n",
    "        for images, labels in val_loader:\n",
    "            images, labels = images.to(device), labels.to(device)\n",
    "\n",
    "            outputs = model(images)\n",
    "            labels = labels.float()  # Convert labels to float\n",
    "            loss = criterion(outputs, labels)\n",
    "            running_loss += loss.item()\n",
    "\n",
    "            predicted = torch.round(torch.sigmoid(outputs))\n",
    "            total += labels.size(0) * labels.size(1)\n",
    "            correct += (predicted == labels).sum().item()\n",
    "    accuracy = 100 * correct / total\n",
    "    return running_loss / len(val_loader), accuracy\n",
    "\n",
    "\n",
    "device = torch.device(\"cuda\" if torch.cuda.is_available() else \"cpu\")\n",
    "\n",
    "\n",
    "model = CNN().to(device)\n",
    "criterion = nn.BCEWithLogitsLoss().to(device)\n",
    "optimizer = optim.SGD(\n",
    "    model.parameters(), lr=learning_rate, momentum=0.9, weight_decay=1e-5\n",
    ")\n",
    "\n",
    "train_losses = []\n",
    "val_losses = []\n",
    "\n",
    "for epoch in range(epochs):\n",
    "    train_loss = train(model, train_dataloader, criterion, optimizer, device)\n",
    "    val_loss, val_accuracy = evaluate(model, eval_dataloader, criterion, device)\n",
    "    train_losses.append(train_loss)\n",
    "    val_losses.append(val_loss)\n",
    "    print(\n",
    "        f\"Epoch [{epoch+1}/{epochs}], Train Loss: {train_loss:.4f}, Val Loss: {val_loss:.4f}, Val Accuracy: {val_accuracy:.2f}%\"\n",
    "    )\n",
    "\n",
    "\n",
    "test_loss, test_accuracy = evaluate(model, test_dataloader, criterion, device)\n",
    "print(f\"Test Loss: {test_loss:.4f}, Test Accuracy: {test_accuracy:.2f}%\")"
   ]
  },
  {
   "cell_type": "code",
   "execution_count": 50,
   "metadata": {},
   "outputs": [
    {
     "name": "stdout",
     "output_type": "stream",
     "text": [
      "[0.6979806125164032, 0.6980448365211487, 0.6980684399604797, 0.6980398744344711, 0.6979493200778961, 0.6979823261499405, 0.697962611913681, 0.6979103833436966, 0.69790218770504, 0.6979561448097229, 0.6979027688503265, 0.6978983581066132, 0.6978597193956375, 0.6978556960821152, 0.6978211104869843, 0.6978053003549576, 0.6978844404220581, 0.6977043300867081, 0.6977150440216064, 0.6977522373199463, 0.6977548003196716, 0.6977490335702896, 0.6977366507053375, 0.697751373052597, 0.6976968348026276, 0.697623148560524, 0.6977091133594513, 0.6976053565740585, 0.6976658850908279, 0.6976353079080582, 0.6975774765014648, 0.6976099163293839, 0.6975668221712112, 0.6975822299718857, 0.697516605257988, 0.6975486725568771, 0.69758141040802, 0.6974767446517944, 0.6974867284297943, 0.6974221467971802, 0.697469562292099, 0.6974282264709473, 0.6974043548107147, 0.6974112093448639, 0.6974254697561264, 0.6974080502986908, 0.6973900943994522, 0.6973948627710342, 0.6972433775663376, 0.6972381919622421, 0.6972947865724564, 0.6972837001085281, 0.6972982436418533, 0.6972715556621552, 0.6972334831953049, 0.6972682327032089, 0.6972409039735794, 0.6971632540225983, 0.6971954852342606, 0.6971407681703568, 0.6971402019262314, 0.6971437931060791, 0.6972036212682724, 0.6970852762460709, 0.6970921009778976, 0.6970798820257187, 0.6970850676298141, 0.6970491260290146, 0.6970551609992981, 0.6969978958368301, 0.6970728486776352, 0.6970123946666718, 0.6969546377658844, 0.6969671100378036, 0.6969414800405502, 0.6969233900308609, 0.6969207525253296, 0.6968742311000824, 0.6968475431203842, 0.6968066096305847, 0.6969303488731384, 0.6968173235654831, 0.6969075202941895, 0.6968329697847366, 0.6967813372612, 0.6968375444412231, 0.6967929154634476, 0.6968069672584534, 0.6968031972646713, 0.6966774463653564, 0.696733295917511, 0.6967078149318695, 0.6966613978147507, 0.6966738402843475, 0.696651041507721, 0.69664666056633, 0.6966394037008286, 0.69663305580616, 0.6966218203306198, 0.6965720057487488]\n"
     ]
    }
   ],
   "source": [
    "print(train_losses)\n",
    "leng=len(train_losses)"
   ]
  }
 ],
 "metadata": {
  "colab": {
   "provenance": [],
   "toc_visible": true
  },
  "kernelspec": {
   "display_name": "Python 3 (ipykernel)",
   "language": "python",
   "name": "python3"
  },
  "language_info": {
   "codemirror_mode": {
    "name": "ipython",
    "version": 3
   },
   "file_extension": ".py",
   "mimetype": "text/x-python",
   "name": "python",
   "nbconvert_exporter": "python",
   "pygments_lexer": "ipython3",
   "version": "3.9.19"
  }
 },
 "nbformat": 4,
 "nbformat_minor": 4
}
