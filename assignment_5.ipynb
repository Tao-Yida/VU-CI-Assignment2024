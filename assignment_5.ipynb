{
  "cells": [
    {
      "cell_type": "markdown",
      "id": "b66642bc",
      "metadata": {
        "deletable": true,
        "editable": true,
        "id": "b66642bc"
      },
      "source": [
        "# Assignment 5: Neuroevolution\n",
        "\n",
        "**Goal**: Implement an Evolutionary Algorithm to optimize an Artificial Neural Network (ANN) based controller for the CartPole task in OpenAI Gym environment.\n",
        "\n",
        "CartPole evaluation environment functions are provided. Your goal is to implement your ANN to control the cartpole and use your Evolutionary Algorithm to optimize the ANN parameters (weights).\n",
        "\n",
        "Please answer the `Questions` and implement coding `Tasks` by filling **PLEASE FILL IN** sections. *Documentation* of your code is also important. You can find the grading scheme in implementation cells.\n",
        "\n",
        "  * Plagiarism is automatically checked and set to **0 points**\n",
        "\n",
        "  * It is allowed to learn from external resources but copying is not allowed. If you use any external resource, please cite them in the comments (e.g. `# source: https://...../` (see `fitness_function`))"
      ]
    },
    {
      "cell_type": "markdown",
      "id": "6d4169c0",
      "metadata": {
        "deletable": true,
        "editable": true,
        "id": "6d4169c0"
      },
      "source": [
        "**Install Prerequisites**"
      ]
    },
    {
      "cell_type": "code",
      "execution_count": 1,
      "id": "42dec0be",
      "metadata": {
        "deletable": true,
        "editable": true,
        "id": "42dec0be"
      },
      "outputs": [],
      "source": [
        "# Run this cell to install the required libraries\n",
        "# %pip install numpy matplotlib scipy"
      ]
    },
    {
      "cell_type": "markdown",
      "id": "7406fbfe",
      "metadata": {
        "deletable": true,
        "editable": true,
        "id": "7406fbfe"
      },
      "source": [
        "**Imports**"
      ]
    },
    {
      "cell_type": "code",
      "execution_count": 2,
      "id": "96c0767a",
      "metadata": {
        "deletable": true,
        "editable": true,
        "id": "96c0767a"
      },
      "outputs": [],
      "source": [
        "# Necessary libraries\n",
        "import matplotlib.pyplot as plt\n"
      ]
    },
    {
      "cell_type": "code",
      "execution_count": 3,
      "id": "bcc4a79c",
      "metadata": {
        "deletable": true,
        "editable": true,
        "id": "bcc4a79c"
      },
      "outputs": [],
      "source": [
        "# Enables inline matplotib graphs\n",
        "%matplotlib inline\n",
        "# Comment the line above and uncomment the lines below to have interactive plots\n",
        "# WARN: may cause dependency issues\n",
        "# %matplotlib qt5\n",
        "# %pip install PyQt5\n",
        "# plt.ion()"
      ]
    },
    {
      "cell_type": "code",
      "execution_count": 4,
      "id": "35be240b",
      "metadata": {
        "colab": {
          "base_uri": "https://localhost:8080/"
        },
        "deletable": true,
        "editable": true,
        "id": "35be240b",
        "lines_to_next_cell": 2,
        "outputId": "bac87f68-e9bf-40b8-8d3f-9f444b2380ce"
      },
      "outputs": [
        {
          "name": "stdout",
          "output_type": "stream",
          "text": [
            "Requirement already satisfied: gymnasium in /home/taoyida/miniconda3/envs/CI/lib/python3.9/site-packages (0.28.1)\n",
            "Requirement already satisfied: numpy>=1.21.0 in /home/taoyida/miniconda3/envs/CI/lib/python3.9/site-packages (from gymnasium) (1.26.4)\n",
            "Requirement already satisfied: jax-jumpy>=1.0.0 in /home/taoyida/miniconda3/envs/CI/lib/python3.9/site-packages (from gymnasium) (1.0.0)\n",
            "Requirement already satisfied: cloudpickle>=1.2.0 in /home/taoyida/miniconda3/envs/CI/lib/python3.9/site-packages (from gymnasium) (2.2.1)\n",
            "Requirement already satisfied: typing-extensions>=4.3.0 in /home/taoyida/miniconda3/envs/CI/lib/python3.9/site-packages (from gymnasium) (4.11.0)\n",
            "Requirement already satisfied: farama-notifications>=0.0.1 in /home/taoyida/miniconda3/envs/CI/lib/python3.9/site-packages (from gymnasium) (0.0.4)\n",
            "Requirement already satisfied: importlib-metadata>=4.8.0 in /home/taoyida/miniconda3/envs/CI/lib/python3.9/site-packages (from gymnasium) (7.1.0)\n",
            "Requirement already satisfied: zipp>=0.5 in /home/taoyida/miniconda3/envs/CI/lib/python3.9/site-packages (from importlib-metadata>=4.8.0->gymnasium) (3.17.0)\n",
            "Note: you may need to restart the kernel to use updated packages.\n"
          ]
        }
      ],
      "source": [
        "%pip install gymnasium\n",
        "import gymnasium as gym"
      ]
    },
    {
      "cell_type": "markdown",
      "id": "5d1a0353",
      "metadata": {
        "deletable": true,
        "editable": true,
        "id": "5d1a0353"
      },
      "source": [
        "---\n",
        "**Question 1 (0-0.25-0.5 pt):** Following link provides more information about the CartPole environemnt we would like to find an ANN to control: https://www.gymlibrary.dev/environments/classic_control/cart_pole/\n",
        "\n",
        "Please have a look at the link and note the observation and action spaces, how many dimensions they have? Are they continous or discrete, and what kinds of value they can get?\n",
        "\n",
        "**Answer:** Observation spaces have ```4``` continuous dimensions, which are \"Cart Position\", \"Cart Velocity\", \"Pole Angle\" and \"Pole Angular Velocity\". \"Cart Position\" has value from ```-4.8``` to ```4.8```; \"Cart Velocity\" has no bounds; \"Pole Angle\" has value from ```-0.418 (-24°)``` to ```0.418 (24°)```; \"Pole Angular Velocity\" has no bounds.\n",
        "Action spaces have ```2``` discrete dimensions with values of ```0 (Push cart to the left)``` and ```1 (Push cart to the right)```."
      ]
    },
    {
      "cell_type": "markdown",
      "id": "5a4de2e7",
      "metadata": {
        "deletable": true,
        "editable": true,
        "id": "5a4de2e7"
      },
      "source": [
        "---\n",
        "**Question 2 (0-0.25-0.5 pt):** What is your proposed ANN architecture and why? Please also discuss the activation functions you choose.\n",
        "\n",
        "**Answer:** This Artificial Neural Network consists of an input layer, a hidden layer and an output layer. The input layer has `inp` neurons, the hidden layer has `hid` neurons and the output layer has `out` neurons. The neurons in each layer have a weight matrix and a bias vector which are randomly initialized.\n",
        "This is a genetic algorithm problem, the weights and biases of this neural network can be considered as chromosomes and the genetic algorithm optimizes the performance of the neural network by optimizing these chromosomes. My reason for using `tanh` as an activation function is that it maps the values of the inputs between -1 and 1 and the average output is close to 0, which can make the learning process more stable. Additionally, the derivative of the `tanh` function is close to 1 when the absolute value of the input is small, which means that in these regions the neuron's errors can be efficiently back-propagated."
      ]
    },
    {
      "cell_type": "markdown",
      "id": "af2a7ba8",
      "metadata": {
        "deletable": true,
        "editable": true,
        "id": "af2a7ba8"
      },
      "source": [
        "---\n",
        "**Task 1: Implementation of Evolutionary Algrotihm (0-1.6-3.8-4.2-5 pt):** Implement your evolutionary algorithm to find an ANN controller for the CartPole task."
      ]
    },
    {
      "cell_type": "code",
      "execution_count": 5,
      "id": "8b508e9c",
      "metadata": {
        "deletable": true,
        "editable": true,
        "id": "8b508e9c",
        "lines_to_next_cell": 2
      },
      "outputs": [],
      "source": [
        "#################################\n",
        "# Grading\n",
        "# 0 pts if the code does not work, code works but it is fundamentally incorrect\n",
        "# 1.6 pts if the code works but some functions are incorrect and it is badly explained\n",
        "# 3.8 pts if the code works but some functions are incorrect but it is explained well\n",
        "# 4.2 pts if the code works very well aligned with the task without any mistakes, but it is badly explained\n",
        "# 5 pts if the code works very well aligned with the task without any mistakes, and it is well explained\n",
        "################################################################\n",
        "\"\"\"\n",
        "    Source of fitness funtion: https://github.com/Tao-Yida/VU-CI-Assignment2024/blob/main/assignment_2.ipynb\n",
        "\"\"\"\n",
        "\n",
        "import numpy as np\n",
        "\n",
        "# Artificial Neural Network parameters (weights)\n",
        "# See here: https://www.gymlibrary.dev/environments/classic_control/cart_pole/ for input and output space\n",
        "# PLEASE SPECIFY BELOW\n",
        "inp = 4  # Cart Position, Cart Velocity, Pole Angle, Pole Angular Velocity\n",
        "hid = 10\n",
        "out = 1  # action: left or right\n",
        "\n",
        "\n",
        "###################\n",
        "# Define the ANN structure\n",
        "class ANN:\n",
        "    def __init__(self, inp, hid, out):\n",
        "        self.inp = inp\n",
        "        self.hid = hid\n",
        "        self.out = out\n",
        "        self.weights1 = np.random.randn(self.inp, self.hid)\n",
        "        self.weights2 = np.random.randn(self.hid, self.out)\n",
        "        self.bias1 = np.random.randn(self.hid)\n",
        "        self.bias2 = np.random.randn(self.out)\n",
        "\n",
        "    def forward(self, x):\n",
        "        self.z1 = np.dot(x, self.weights1) + self.bias1\n",
        "        self.a1 = self.tanh(self.z1)\n",
        "        self.z2 = np.dot(self.a1, self.weights2) + self.bias2\n",
        "        self.a2 = self.tanh(self.z2)\n",
        "        return self.a2\n",
        "\n",
        "    def tanh(self, s):\n",
        "        return np.tanh(s)\n",
        "\n",
        "\n",
        "# Open AI gym environment\n",
        "env = gym.make(\"CartPole-v1\")\n",
        "\n",
        "\n",
        "# CartPole evaluation function\n",
        "def cartpole(x):\n",
        "    ann = ANN(inp, hid, out)\n",
        "    ann.weights1 = x[: inp * hid].reshape(\n",
        "        inp, hid\n",
        "    )  # Extract inp*hid weights from x and reshape to (inp, hid)\n",
        "    ann.weights2 = x[inp * hid : inp * hid + hid * out].reshape(hid, out)\n",
        "    ann.bias1 = x[\n",
        "        inp * hid + hid * out : inp * hid + hid * out + hid\n",
        "    ]  # Extract hid biases from x\n",
        "    ann.bias2 = x[-out:]  # Extract last out biases from x\n",
        "\n",
        "    # Reset environment\n",
        "    observation, info = env.reset(seed=0)\n",
        "\n",
        "    rew = 0  # Initial reward\n",
        "    step = 0  # step counter\n",
        "    done = False\n",
        "    maxStep = 1000  # maximum number of steps\n",
        "    while not done and step < 1000:  # run nStep number of time\n",
        "        action_prob = ann.forward(observation)\n",
        "        action = 0 if action_prob < 0 else 1  # negative: 0 (left), positive: 1 (right)\n",
        "\n",
        "        observation, reward, done, tr, info = env.step(action)\n",
        "        step += 1\n",
        "        rew = rew + reward\n",
        "\n",
        "        # If the parameters are beyond thresholds.\n",
        "        cart_position, cart_velocity, pole_angle, pole_angular_velocity = observation\n",
        "        if abs(cart_position) > 4.8 or abs(pole_angle) > 0.418:\n",
        "            done = True\n",
        "        # print(f\"Step: {step}, Observation: {observation}, Action: {action}, Reward: {reward}, Total Reward: {rew}\")\n",
        "\n",
        "    env.close()\n",
        "    return np.minimum(\n",
        "        maxStep, rew\n",
        "    )  # return the reward or maxStep (if maxStep < 1000, this means that pole fell)\n",
        "\n",
        "\n",
        "# CartPole evaluation function with video recording\n",
        "def cartpole_record_video(x):\n",
        "    tmp_env = gym.make(\"CartPole-v1\", render_mode=\"rgb_array\")\n",
        "\n",
        "    # Video recording function - be sure to check the folder path - you should see the video here:content/video/cartpole\n",
        "    env = gym.wrappers.RecordVideo(\n",
        "        env=tmp_env, video_folder=\"content/video/cartpole\", name_prefix=\"cartpole\"\n",
        "    )\n",
        "\n",
        "    ann = ANN(inp, hid, out)\n",
        "    ann.weights1 = x[: inp * hid].reshape(inp, hid)\n",
        "    ann.weights2 = x[inp * hid : inp * hid + hid * out].reshape(hid, out)\n",
        "    ann.bias1 = x[inp * hid + hid * out : inp * hid + hid * out + hid]\n",
        "    ann.bias2 = x[-out:]\n",
        "\n",
        "    # Reset environment\n",
        "    observation, info = env.reset(seed=0)\n",
        "\n",
        "    rew = 0  # Initial reward\n",
        "    step = 0  # step counter\n",
        "    done = False\n",
        "    maxStep = 1000  # maximum number of steps\n",
        "    while not done and step < 1000:  # run nStep number of time\n",
        "        action_prob = ann.forward(observation)\n",
        "        action = 0 if action_prob < 0 else 1\n",
        "\n",
        "        # action should be provided based on the output of the artificial neural network\n",
        "        observation, reward, done, tr, info = env.step(action)\n",
        "        step += 1  # step counter\n",
        "        rew = rew + reward  # after each step increment reward\n",
        "        env.render()\n",
        "\n",
        "    env.close_video_recorder()\n",
        "    env.close()\n",
        "    return np.minimum(\n",
        "        maxStep, rew\n",
        "    )  # return the reward or maxStep (if maxStep < 1000, this means that pole fell)\n",
        "\n",
        "\n",
        "# CartPole evaluation function for visualizing the cartpole environment\n",
        "def cartpole_visualize(x):\n",
        "    tmp_env = gym.make(\"CartPole-v1\", render_mode=\"human\")\n",
        "\n",
        "    ann = ANN(inp, hid, out)\n",
        "    ann.weights1 = x[: inp * hid].reshape(inp, hid)\n",
        "    ann.weights2 = x[inp * hid : inp * hid + hid * out].reshape(hid, out)\n",
        "    ann.bias1 = x[inp * hid + hid * out : inp * hid + hid * out + hid]\n",
        "    ann.bias2 = x[-out:]\n",
        "\n",
        "    # Reset environment\n",
        "    observation, info = tmp_env.reset(seed=0)\n",
        "\n",
        "    rew = 0  # Initial reward\n",
        "    step = 0  # step counter\n",
        "    done = False\n",
        "    maxStep = 1000  # maximum number of steps\n",
        "    while not done and step < 1000:  # run nStep number of time\n",
        "        action_prob = ann.forward(observation)\n",
        "        action = 0 if action_prob < 0.5 else 1\n",
        "\n",
        "        # action should be provided based on the output of the artificial neural network\n",
        "        observation, reward, done, tr, info = tmp_env.step(action)\n",
        "        step += 1  # step counter\n",
        "        rew = rew + reward  # after each step increment reward\n",
        "        tmp_env.render()\n",
        "\n",
        "    tmp_env.close()\n",
        "    return np.minimum(\n",
        "        maxStep, rew\n",
        "    )  # return the reward or maxStep (if maxStep < 1000, this means that pole fell)\n",
        "\n",
        "\n",
        "def initialization(population_size, num_dimensions):\n",
        "    \"\"\"\n",
        "    Initialize the starting population with random individuals.\n",
        "    Each gene of an individual corresponds to the weights and offsets of an ANN.\n",
        "    \"\"\"\n",
        "    # Create an initial population of size (population_size, num_dimensions), row is an individual, column is a dimension(gene).\n",
        "    x = np.random.uniform(low=-1, high=1, size=(population_size, num_dimensions))\n",
        "    return x  # Return population\n",
        "\n",
        "\n",
        "def evaluation(x, objective_function):\n",
        "    \"\"\"Evaluate the fitness of the population members.\"\"\"\n",
        "    fitness = np.apply_along_axis(objective_function, 1, x)\n",
        "    return fitness\n",
        "\n",
        "\n",
        "def crossover(x_parents, p_crossover):\n",
        "    \"\"\"Perform crossover to create offsprings.\"\"\"\n",
        "    offspring = []\n",
        "    n_parents = x_parents.shape[0]\n",
        "    n_dimension = x_parents.shape[1]\n",
        "\n",
        "    for _ in range(n_parents // 2):\n",
        "        # Randomly select two parents\n",
        "        parents_indices = np.random.choice(range(n_parents), size=2, replace=False)\n",
        "\n",
        "        if np.random.rand() < p_crossover:\n",
        "            # Exchange genes at a random crossover point\n",
        "            crossover_point = np.random.randint(1, n_dimension)\n",
        "\n",
        "            # Create offspring by combining genes from selected parents\n",
        "            parent1 = x_parents[parents_indices[0]]\n",
        "            parent2 = x_parents[parents_indices[1]]\n",
        "            # Perform crossover, the first child gets the first part of parent1 and the second part of parent2, and vice versa\n",
        "            child1 = np.hstack((parent1[:crossover_point], parent2[crossover_point:]))\n",
        "            child2 = np.hstack((parent2[:crossover_point], parent1[crossover_point:]))\n",
        "\n",
        "            offspring.append(child1)\n",
        "            offspring.append(child2)\n",
        "        else:\n",
        "            # If no crossover was done, just pass parents to the next generation\n",
        "            offspring.extend(x_parents[parents_indices])\n",
        "\n",
        "    return np.array(offspring)\n",
        "\n",
        "\n",
        "def mutation(x, m_rate):\n",
        "    \"\"\"Apply mutation to an individual.\"\"\"\n",
        "    for _ in range(len(x)):\n",
        "        if np.random.rand() < m_rate:\n",
        "\n",
        "            # Randomly select a gene to mutate\n",
        "            gene_idx = np.random.randint(len(x))\n",
        "\n",
        "            # Mutate the selected gene with a random value within the boundaries\n",
        "            x[gene_idx] = np.random.uniform(-1, 1)\n",
        "    return x\n",
        "\n",
        "\n",
        "def parent_selection(x, f):\n",
        "    \"\"\"Select parents for the next generation\n",
        "    Two methods can be used: select the best individual or randomly select individuals for the tournament.\n",
        "    \"\"\"\n",
        "    tournament_size = 3  # Number of individuals participating in the tournament, the best one/a random one will be selected\n",
        "    x_parents = []\n",
        "    f_parents = []\n",
        "\n",
        "    # Assume the population size of parents is the same as the population size of the current generation\n",
        "    while len(x_parents) < len(x):\n",
        "        indices = np.random.choice(range(len(x)), size=tournament_size, replace=False)\n",
        "\n",
        "        # Select randomly\n",
        "        parents_idx = np.random.choice(indices)\n",
        "\n",
        "        # Append the best individual to the parents\n",
        "        # parents_idx = indices[np.argmax(f[indices])]\n",
        "\n",
        "        x_parents.append(x[parents_idx])\n",
        "        f_parents.append(f[parents_idx])\n",
        "\n",
        "    return np.array(x_parents), np.array(f_parents)\n",
        "\n",
        "\n",
        "def survivor_selection(x, f, x_offspring, f_offspring):\n",
        "    \"\"\"Select the survivors, for the population of the next generation\"\"\"\n",
        "    # x and x_offspring are (population_size, num_dimensions) arrays, f and f_offspring are 1D arrays\n",
        "    combined_population = np.vstack((x, x_offspring))\n",
        "    combined_fitness = np.hstack((f, f_offspring))\n",
        "\n",
        "    # Convert fitness values to probabilities\n",
        "    # fitness_probabilities = combined_fitness ** 1.1\n",
        "    # fitness_probabilities /= np.sum(fitness_probabilities)\n",
        "\n",
        "    # Select individuals randomly based on their fitness probabilities (Roulette Wheel Selection)\n",
        "    # survivors_idx = np.random.choice(\n",
        "    #     range(len(combined_fitness)),\n",
        "    #     size=len(x),\n",
        "    #     replace=False,\n",
        "    #     p=fitness_probabilities,\n",
        "    # )\n",
        "\n",
        "    # Select the best individuals\n",
        "    survivors_idx=np.argsort(combined_fitness)[-len(x):]\n",
        "\n",
        "    x = combined_population[survivors_idx]\n",
        "    f = combined_fitness[survivors_idx]\n",
        "\n",
        "    return x, f\n",
        "\n",
        "\n",
        "# Implement your Evolutionary Algorithm to find the ANN weigths that can balance the CartPole\n",
        "# Feel free to add any functions, such as initialization, crossover, etc.. to make it work!\n",
        "def ea(\n",
        "    # hyperparameters of the algorithm\n",
        "    population_size,\n",
        "    max_fit_evals,  # Maximum number of evaluations\n",
        "    p_crossover,  # Probability of performing crossover operator\n",
        "    m_rate,  # mutation rate\n",
        "    objective_function,  # objective function to be minimized\n",
        "    dimensions=inp * hid + hid + hid * out + out,  # number of dimensions\n",
        "):\n",
        "    \"\"\"\n",
        "    Methodology: Record the best individual in each generation, either the best in its parent generation or a new offspring.\n",
        "    \"\"\"\n",
        "    # Initialize population\n",
        "    x = initialization(population_size, dimensions)\n",
        "    f = evaluation(x, objective_function)\n",
        "\n",
        "    # Calculate the maximum number of generations\n",
        "    max_generations = int(max_fit_evals / population_size)\n",
        "\n",
        "    # Find the best individual and append to a list to keep track in each generation\n",
        "    idx = np.argmax(f)\n",
        "    x_best = [x[idx]]\n",
        "    f_best = [f[idx]]\n",
        "\n",
        "    # Loop over the generations\n",
        "    for _ in range(max_generations - 1):\n",
        "        # Perform the EA steps\n",
        "        ################################################################\n",
        "        # Select parents\n",
        "        x_parents = parent_selection(x, f)[0]\n",
        "\n",
        "        # Generate offsprings through crossover\n",
        "        x_offspring = crossover(x_parents, p_crossover)\n",
        "        # Apply mutation\n",
        "        for individual in x_offspring:\n",
        "            mutation(individual, m_rate)\n",
        "\n",
        "        # Evaluate offsprings\n",
        "        f_offspring = evaluation(x_offspring, objective_function)\n",
        "        # Select survivors\n",
        "        x, f = survivor_selection(x, f, x_offspring, f_offspring)\n",
        "\n",
        "        ################################################################\n",
        "        # Find the best individual in current generation and add to the list\n",
        "        idx = np.argmax(f)\n",
        "        xi_best = x[idx]\n",
        "        fi_best = f[idx]\n",
        "        if fi_best > f_best[-1]:\n",
        "            x_best.append(xi_best)\n",
        "            f_best.append(fi_best)\n",
        "        else:\n",
        "            x_best.append(x_best[-1])\n",
        "            f_best.append(f_best[-1])\n",
        "    return x_best, f_best  # return the best solution and fitness in each generation"
      ]
    },
    {
      "cell_type": "markdown",
      "id": "52ddb0a4",
      "metadata": {
        "deletable": true,
        "editable": true,
        "id": "52ddb0a4"
      },
      "source": [
        "#### Check Your Implementation: Running The Evolutionary Algorithm\n",
        "\n",
        "Run the cell below, if you implemented everything correctly, you should see the algorithm running. Furthermore,"
      ]
    },
    {
      "cell_type": "code",
      "execution_count": 9,
      "id": "e85066e6",
      "metadata": {
        "deletable": true,
        "editable": true,
        "id": "e85066e6",
        "lines_to_next_cell": 2
      },
      "outputs": [],
      "source": [
        "# Dummy parameters, please add or remove based on your implementation\n",
        "kwargs = {\n",
        "    \"population_size\": 20,\n",
        "    \"max_fit_evals\": 1000,  # maximum number of fitness evaluations\n",
        "    \"p_crossover\": 0.1,  # crossover probability\n",
        "    \"m_rate\": 0.5,  # mutation rate\n",
        "    \"objective_function\": cartpole,\n",
        "}"
      ]
    },
    {
      "cell_type": "code",
      "execution_count": 22,
      "id": "d6409464",
      "metadata": {
        "colab": {
          "base_uri": "https://localhost:8080/"
        },
        "id": "d6409464",
        "outputId": "42d27f2d-0315-42dc-df06-1a22ccd2c95b"
      },
      "outputs": [
        {
          "name": "stdout",
          "output_type": "stream",
          "text": [
            "Best ANN parameters found: [-0.89891511 -0.28352858 -0.06248563 -0.10950899 -0.94003457  0.9256382\n",
            "  0.19951894  0.20439037 -0.99271194 -0.66008518 -0.01482491  0.22389895\n",
            " -0.01444575  0.73555828  0.42069255 -0.681603   -0.77870635  0.83749839\n",
            " -0.4916261   0.89040109  0.88072573 -0.22456696  0.95935885  0.9023586\n",
            "  0.6714391  -0.1446035  -0.51977914  0.65169476 -0.79224651 -0.82507131\n",
            " -0.17261351 -0.77697746 -0.39379353  0.40562499  0.60331736 -0.48353049\n",
            " -0.31105903  0.08094098  0.50886703 -0.18813789 -0.89508188 -0.59284551\n",
            "  0.17420772 -0.48135224  0.43305752 -0.89319073 -0.92462456  0.92356484\n",
            " -0.40737567 -0.81806343 -0.3110528  -0.4124901  -0.85688915 -0.79813846\n",
            "  0.28693265 -0.0016827  -0.3476644  -0.37767186 -0.79487791  0.4497006\n",
            " -0.85513654]\n",
            "Best fitnes found: 1000.0\n"
          ]
        },
        {
          "name": "stderr",
          "output_type": "stream",
          "text": [
            "/usr/local/lib/python3.10/dist-packages/gymnasium/wrappers/record_video.py:94: UserWarning: \u001b[33mWARN: Overwriting existing videos at /content/content/video/cartpole folder (try specifying a different `video_folder` for the `RecordVideo` wrapper if this is not desired)\u001b[0m\n",
            "  logger.warn(\n"
          ]
        },
        {
          "name": "stdout",
          "output_type": "stream",
          "text": [
            "Moviepy - Building video /content/content/video/cartpole/cartpole-episode-0.mp4.\n",
            "Moviepy - Writing video /content/content/video/cartpole/cartpole-episode-0.mp4\n",
            "\n"
          ]
        },
        {
          "name": "stderr",
          "output_type": "stream",
          "text": []
        },
        {
          "name": "stdout",
          "output_type": "stream",
          "text": [
            "Moviepy - Done !\n",
            "Moviepy - video ready /content/content/video/cartpole/cartpole-episode-0.mp4\n"
          ]
        }
      ],
      "source": [
        "# Run your algorithm once and find the best ANN weigths found\n",
        "env = gym.make(\"CartPole-v1\")\n",
        "x_best, f_best = ea(**kwargs)\n",
        "\n",
        "# Print the best ANN weigths found and best fitness\n",
        "print(\"Best ANN parameters found:\",x_best[-1])\n",
        "print(\"Best fitnes found:\",f_best[-1])\n",
        "\n",
        "# Evaluate your ANN weights again and record the video\n",
        "if f_best[-1] >= 1000:\n",
        "  cartpole_record_video(x_best[-1] )\n",
        "  #or cartpole_visualize(x_best[-1] )\n",
        "else:\n",
        "  print(\"The best fitness 1000 was not found, try again!!\")"
      ]
    },
    {
      "cell_type": "markdown",
      "id": "7e862cf9",
      "metadata": {
        "id": "7e862cf9"
      },
      "source": [
        "---\n",
        "**Question 3 (0-0.25-0.5 pt):** Please comment on the behavior of the final solution. Were you able to find the best solution (i.e. ANN weights which achieves best fitness: 1000) and was it possible to controll the CartPole task without letting the the pole fall?\n",
        "\n",
        "**Answer:** My solution worked well. With the fitness of 1000.0 each time, the CartPole was able to be controled without falling."
      ]
    },
    {
      "cell_type": "markdown",
      "id": "3dfd08c2",
      "metadata": {
        "deletable": true,
        "editable": true,
        "id": "3dfd08c2",
        "lines_to_next_cell": 2
      },
      "source": [
        "**Average results of your algorithm**\n",
        "\n",
        "Remember that the EAs are sthocastic algorithms that can produce different results as a result of independent runs.\n",
        "\n",
        "Therefore, we would like to see the average results and standard deviations.\n"
      ]
    },
    {
      "cell_type": "markdown",
      "id": "db881769",
      "metadata": {
        "id": "db881769"
      },
      "source": [
        "---\n",
        "**Task 2 (0-1.5-3 pt):** Please run your algorithm for at least 10 times and plot the average results and standard deviations. Below, you may add as many cells as you need for this implementation and plot functions. You may use previous code you have developed/used during the course."
      ]
    },
    {
      "cell_type": "code",
      "execution_count": 13,
      "id": "2b073e7f",
      "metadata": {
        "id": "2b073e7f"
      },
      "outputs": [],
      "source": [
        "def survivor_selection(x, f, x_offspring, f_offspring):\n",
        "    \"\"\"Select the survivors, for the population of the next generation\"\"\"\n",
        "    \"\"\"Change: From 'Select the best individuals' to 'Select individuals randomly based on their fitness probabilities (Roulette Wheel Selection)'\"\"\"\n",
        "    # x and x_offspring are (population_size, num_dimensions) arrays, f and f_offspring are 1D arrays\n",
        "    combined_population = np.vstack((x, x_offspring))\n",
        "    combined_fitness = np.hstack((f, f_offspring))\n",
        "\n",
        "    # Convert fitness values to probabilities\n",
        "    fitness_probabilities = combined_fitness**1.001\n",
        "    fitness_probabilities /= np.sum(fitness_probabilities)\n",
        "\n",
        "    # Select individuals randomly based on their fitness probabilities (Roulette Wheel Selection)\n",
        "    survivors_idx = np.random.choice(\n",
        "        range(len(combined_fitness)),\n",
        "        size=len(x),\n",
        "        replace=False,\n",
        "        p=fitness_probabilities,\n",
        "    )\n",
        "    \"\"\"\n",
        "    Summary: Selecting the best will always lead to 1000.0 fitness. A possible solution is to use Roulette Wheel Selection to discard some good individuals. A little bit of randomness can help to explore the search space.\n",
        "    \"\"\"\n",
        "\n",
        "    x = combined_population[survivors_idx]\n",
        "    f = combined_fitness[survivors_idx]\n",
        "\n",
        "    return x, f"
      ]
    },
    {
      "cell_type": "code",
      "execution_count": 14,
      "id": "04d1984c",
      "metadata": {
        "id": "04d1984c"
      },
      "outputs": [],
      "source": [
        "def plot_curve(ea, **kwargs):\n",
        "    \"\"\"\n",
        "    Plot the best fitness over 20 runs of the EA.\n",
        "    \"\"\"\n",
        "    results = []\n",
        "    for _ in range(20):\n",
        "        _, f_best = ea(**kwargs)\n",
        "        results.append(f_best[-1])\n",
        "\n",
        "    results = np.array(results)\n",
        "    mean_results = np.cumsum(results) / np.arange(1, len(results) + 1)\n",
        "    std_results = np.array([np.std(results[:i+1]) for i in range(len(results))]) # Calculate the std of the best fitness over the runs\n",
        "\n",
        "    plt.figure(figsize=(18, 6))\n",
        "    plt.plot(range(1, len(results) + 1), results, \"-o\", label=\"Results\")\n",
        "    plt.axhline(mean_results[-1], color=\"r\", linestyle=\"--\", label=f\"Mean: {mean_results[-1]:.2f}\")\n",
        "    plt.fill_between(\n",
        "        range(1, len(results) + 1),\n",
        "        mean_results - std_results,\n",
        "        mean_results + std_results,\n",
        "        color=\"r\",\n",
        "        alpha=0.2,\n",
        "    ) # Fill the area between the mean and +- std\n",
        "    plt.xlabel(\"Run\")\n",
        "    plt.ylabel(\"Best Fitness\")\n",
        "    plt.title(\"Mean and Std of Best Fitness over 10 Runs\")\n",
        "    plt.legend()\n",
        "\n",
        "    plt.text(0.02, 0.15, f\"Std: {std_results[-1]:.2f}\", transform=plt.gca().transAxes)\n",
        "\n",
        "    for i, result in enumerate(results, start=1):\n",
        "        plt.text(i, result, f\"{result:.2f}\", ha='center', va='bottom')\n",
        "\n",
        "    plt.xticks(np.arange(1, len(results) + 1, 1))\n",
        "    plt.yticks(np.arange(0, 1001, 100))\n",
        "    plt.ylim(0, 1050)\n",
        "\n",
        "    plt.show()"
      ]
    },
    {
      "cell_type": "code",
      "execution_count": 20,
      "id": "b22ca79f",
      "metadata": {
        "colab": {
          "base_uri": "https://localhost:8080/",
          "height": 564
        },
        "id": "b22ca79f",
        "outputId": "f67b5d5c-3349-4d00-e7b2-f82393a5af50"
      },
      "outputs": [
        {
          "data": {
            "image/png": "[encoded data removed]",
            "text/plain": [
              "<Figure size 1800x600 with 1 Axes>"
            ]
          },
          "metadata": {},
          "output_type": "display_data"
        }
      ],
      "source": [
        "plot_curve(ea, **kwargs)"
      ]
    },
    {
      "cell_type": "markdown",
      "id": "b3890d84",
      "metadata": {
        "id": "b3890d84"
      },
      "source": [
        "---\n",
        "**Question 4 (0-0.25-0.5 pt):** Please comment on the average behavior of your algorithm. How did the average results and standard deviations look? Did your algorithm converge all the time to the best fitness?\n",
        "\n",
        "**Answer:** Running the ```plot_curve()``` each time leads to a different behavior of the alogorithm. The results shows that they are either perfect (with fitness 1000.0) or fall at middle phase (most failures stop before 600). The average results and std are shown in the figure above, where the average result is high but the distribution is highly unstable. The alogirhtm is not converging with strong oscillation."
      ]
    }
  ],
  "metadata": {
    "colab": {
      "provenance": []
    },
    "jupytext": {
      "formats": "ipynb,md,py:light"
    },
    "kernelspec": {
      "display_name": "Python 3 (ipykernel)",
      "language": "python",
      "name": "python3"
    },
    "language_info": {
      "codemirror_mode": {
        "name": "ipython",
        "version": 3
      },
      "file_extension": ".py",
      "mimetype": "text/x-python",
      "name": "python",
      "nbconvert_exporter": "python",
      "pygments_lexer": "ipython3",
      "version": "3.9.19"
    },
    "toc": {
      "base_numbering": 1
    }
  },
  "nbformat": 4,
  "nbformat_minor": 5
}
